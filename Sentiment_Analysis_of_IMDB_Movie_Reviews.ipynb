{
  "cells": [
    {
      "cell_type": "markdown",
      "id": "fSOFK1JIKUPd",
      "metadata": {
        "id": "fSOFK1JIKUPd"
      },
      "source": [
        "**Problem Statement- we have to predict number of positive & negative reviews based on sentiments by using different classification models**"
      ]
    },
    {
      "cell_type": "code",
      "execution_count": null,
      "id": "08ea46e7",
      "metadata": {
        "id": "08ea46e7"
      },
      "outputs": [],
      "source": [
        "from nltk.tokenize import word_tokenize\n",
        "from nltk.tokenize import sent_tokenize\n",
        "from nltk.corpus import stopwords\n",
        "from nltk import WordNetLemmatizer\n",
        "from nltk import PorterStemmer\n",
        "import nltk\n",
        "import pandas as pd\n",
        "import numpy as np\n",
        "import warnings\n",
        "warnings.filterwarnings('ignore')"
      ]
    },
    {
      "cell_type": "code",
      "execution_count": null,
      "id": "64fecacb",
      "metadata": {
        "colab": {
          "base_uri": "https://localhost:8080/",
          "height": 423
        },
        "id": "64fecacb",
        "outputId": "bf5ecd34-2b9b-4b1d-f984-d7f8884c5f22"
      },
      "outputs": [
        {
          "data": {
            "text/html": [
              "<div>\n",
              "<style scoped>\n",
              "    .dataframe tbody tr th:only-of-type {\n",
              "        vertical-align: middle;\n",
              "    }\n",
              "\n",
              "    .dataframe tbody tr th {\n",
              "        vertical-align: top;\n",
              "    }\n",
              "\n",
              "    .dataframe thead th {\n",
              "        text-align: right;\n",
              "    }\n",
              "</style>\n",
              "<table border=\"1\" class=\"dataframe\">\n",
              "  <thead>\n",
              "    <tr style=\"text-align: right;\">\n",
              "      <th></th>\n",
              "      <th>review</th>\n",
              "      <th>sentiment</th>\n",
              "    </tr>\n",
              "  </thead>\n",
              "  <tbody>\n",
              "    <tr>\n",
              "      <th>0</th>\n",
              "      <td>One of the other reviewers has mentioned that ...</td>\n",
              "      <td>positive</td>\n",
              "    </tr>\n",
              "    <tr>\n",
              "      <th>1</th>\n",
              "      <td>A wonderful little production. &lt;br /&gt;&lt;br /&gt;The...</td>\n",
              "      <td>positive</td>\n",
              "    </tr>\n",
              "    <tr>\n",
              "      <th>2</th>\n",
              "      <td>I thought this was a wonderful way to spend ti...</td>\n",
              "      <td>positive</td>\n",
              "    </tr>\n",
              "    <tr>\n",
              "      <th>3</th>\n",
              "      <td>Basically there's a family where a little boy ...</td>\n",
              "      <td>negative</td>\n",
              "    </tr>\n",
              "    <tr>\n",
              "      <th>4</th>\n",
              "      <td>Petter Mattei's \"Love in the Time of Money\" is...</td>\n",
              "      <td>positive</td>\n",
              "    </tr>\n",
              "    <tr>\n",
              "      <th>...</th>\n",
              "      <td>...</td>\n",
              "      <td>...</td>\n",
              "    </tr>\n",
              "    <tr>\n",
              "      <th>9995</th>\n",
              "      <td>Fun, entertaining movie about WWII German spy ...</td>\n",
              "      <td>positive</td>\n",
              "    </tr>\n",
              "    <tr>\n",
              "      <th>9996</th>\n",
              "      <td>Give me a break. How can anyone say that this ...</td>\n",
              "      <td>negative</td>\n",
              "    </tr>\n",
              "    <tr>\n",
              "      <th>9997</th>\n",
              "      <td>This movie is a bad movie. But after watching ...</td>\n",
              "      <td>negative</td>\n",
              "    </tr>\n",
              "    <tr>\n",
              "      <th>9998</th>\n",
              "      <td>This is a movie that was probably made to ente...</td>\n",
              "      <td>negative</td>\n",
              "    </tr>\n",
              "    <tr>\n",
              "      <th>9999</th>\n",
              "      <td>Smashing film about film-making. Shows the int...</td>\n",
              "      <td>positive</td>\n",
              "    </tr>\n",
              "  </tbody>\n",
              "</table>\n",
              "<p>10000 rows × 2 columns</p>\n",
              "</div>"
            ],
            "text/plain": [
              "                                                 review sentiment\n",
              "0     One of the other reviewers has mentioned that ...  positive\n",
              "1     A wonderful little production. <br /><br />The...  positive\n",
              "2     I thought this was a wonderful way to spend ti...  positive\n",
              "3     Basically there's a family where a little boy ...  negative\n",
              "4     Petter Mattei's \"Love in the Time of Money\" is...  positive\n",
              "...                                                 ...       ...\n",
              "9995  Fun, entertaining movie about WWII German spy ...  positive\n",
              "9996  Give me a break. How can anyone say that this ...  negative\n",
              "9997  This movie is a bad movie. But after watching ...  negative\n",
              "9998  This is a movie that was probably made to ente...  negative\n",
              "9999  Smashing film about film-making. Shows the int...  positive\n",
              "\n",
              "[10000 rows x 2 columns]"
            ]
          },
          "execution_count": 2,
          "metadata": {},
          "output_type": "execute_result"
        }
      ],
      "source": [
        "data=pd.read_csv('Dataset.csv')\n",
        "data"
      ]
    },
    {
      "cell_type": "code",
      "execution_count": null,
      "id": "4XqbgvUGK1FA",
      "metadata": {
        "colab": {
          "base_uri": "https://localhost:8080/"
        },
        "id": "4XqbgvUGK1FA",
        "outputId": "aed9d330-06c5-4e16-9c78-825838ff71ca"
      },
      "outputs": [
        {
          "data": {
            "text/plain": [
              "sentiment\n",
              "positive    5028\n",
              "negative    4972\n",
              "Name: count, dtype: int64"
            ]
          },
          "execution_count": 3,
          "metadata": {},
          "output_type": "execute_result"
        }
      ],
      "source": [
        "data['sentiment'].value_counts()"
      ]
    },
    {
      "cell_type": "code",
      "execution_count": null,
      "id": "45902ab2",
      "metadata": {
        "colab": {
          "base_uri": "https://localhost:8080/"
        },
        "id": "45902ab2",
        "outputId": "d3bed456-5ac2-4676-a35d-bd1ffe84a98f"
      },
      "outputs": [
        {
          "data": {
            "text/plain": [
              "(10000, 2)"
            ]
          },
          "execution_count": 4,
          "metadata": {},
          "output_type": "execute_result"
        }
      ],
      "source": [
        "data.shape"
      ]
    },
    {
      "cell_type": "code",
      "execution_count": null,
      "id": "4RznE64_Kxko",
      "metadata": {
        "colab": {
          "base_uri": "https://localhost:8080/",
          "height": 174
        },
        "id": "4RznE64_Kxko",
        "outputId": "1b6b5d1a-da70-4265-85ba-84ddf28fb49f"
      },
      "outputs": [
        {
          "data": {
            "text/html": [
              "<div>\n",
              "<style scoped>\n",
              "    .dataframe tbody tr th:only-of-type {\n",
              "        vertical-align: middle;\n",
              "    }\n",
              "\n",
              "    .dataframe tbody tr th {\n",
              "        vertical-align: top;\n",
              "    }\n",
              "\n",
              "    .dataframe thead th {\n",
              "        text-align: right;\n",
              "    }\n",
              "</style>\n",
              "<table border=\"1\" class=\"dataframe\">\n",
              "  <thead>\n",
              "    <tr style=\"text-align: right;\">\n",
              "      <th></th>\n",
              "      <th>review</th>\n",
              "      <th>sentiment</th>\n",
              "    </tr>\n",
              "  </thead>\n",
              "  <tbody>\n",
              "    <tr>\n",
              "      <th>count</th>\n",
              "      <td>10000</td>\n",
              "      <td>10000</td>\n",
              "    </tr>\n",
              "    <tr>\n",
              "      <th>unique</th>\n",
              "      <td>9983</td>\n",
              "      <td>2</td>\n",
              "    </tr>\n",
              "    <tr>\n",
              "      <th>top</th>\n",
              "      <td>Beautiful film, pure Cassavetes style. Gena Ro...</td>\n",
              "      <td>positive</td>\n",
              "    </tr>\n",
              "    <tr>\n",
              "      <th>freq</th>\n",
              "      <td>2</td>\n",
              "      <td>5028</td>\n",
              "    </tr>\n",
              "  </tbody>\n",
              "</table>\n",
              "</div>"
            ],
            "text/plain": [
              "                                                   review sentiment\n",
              "count                                               10000     10000\n",
              "unique                                               9983         2\n",
              "top     Beautiful film, pure Cassavetes style. Gena Ro...  positive\n",
              "freq                                                    2      5028"
            ]
          },
          "execution_count": 5,
          "metadata": {},
          "output_type": "execute_result"
        }
      ],
      "source": [
        "data.describe()"
      ]
    },
    {
      "cell_type": "code",
      "execution_count": null,
      "id": "662f64ec",
      "metadata": {
        "colab": {
          "base_uri": "https://localhost:8080/"
        },
        "id": "662f64ec",
        "outputId": "7f2f6cdd-d190-4ea3-85c5-5bfed74ef7df"
      },
      "outputs": [
        {
          "data": {
            "text/plain": [
              "<bound method DataFrame.info of                                                  review sentiment\n",
              "0     One of the other reviewers has mentioned that ...  positive\n",
              "1     A wonderful little production. <br /><br />The...  positive\n",
              "2     I thought this was a wonderful way to spend ti...  positive\n",
              "3     Basically there's a family where a little boy ...  negative\n",
              "4     Petter Mattei's \"Love in the Time of Money\" is...  positive\n",
              "...                                                 ...       ...\n",
              "9995  Fun, entertaining movie about WWII German spy ...  positive\n",
              "9996  Give me a break. How can anyone say that this ...  negative\n",
              "9997  This movie is a bad movie. But after watching ...  negative\n",
              "9998  This is a movie that was probably made to ente...  negative\n",
              "9999  Smashing film about film-making. Shows the int...  positive\n",
              "\n",
              "[10000 rows x 2 columns]>"
            ]
          },
          "execution_count": 6,
          "metadata": {},
          "output_type": "execute_result"
        }
      ],
      "source": [
        "data.info"
      ]
    },
    {
      "cell_type": "code",
      "execution_count": null,
      "id": "2cc54276",
      "metadata": {
        "colab": {
          "base_uri": "https://localhost:8080/"
        },
        "id": "2cc54276",
        "outputId": "531416d2-524a-49ef-be0d-e4807c03c204"
      },
      "outputs": [
        {
          "data": {
            "text/plain": [
              "review       0\n",
              "sentiment    0\n",
              "dtype: int64"
            ]
          },
          "execution_count": 7,
          "metadata": {},
          "output_type": "execute_result"
        }
      ],
      "source": [
        "data.isnull().sum()"
      ]
    },
    {
      "cell_type": "markdown",
      "id": "wXSbbsuZCeF3",
      "metadata": {
        "id": "wXSbbsuZCeF3"
      },
      "source": [
        "Removing Punctuation"
      ]
    },
    {
      "cell_type": "code",
      "execution_count": null,
      "id": "c0e7676f",
      "metadata": {
        "id": "c0e7676f"
      },
      "outputs": [],
      "source": [
        "from string import punctuation"
      ]
    },
    {
      "cell_type": "code",
      "execution_count": null,
      "id": "6453e5fc",
      "metadata": {
        "id": "6453e5fc"
      },
      "outputs": [],
      "source": [
        "def pun(x):\n",
        "    return ''.join([i for i in x if i not in punctuation])"
      ]
    },
    {
      "cell_type": "code",
      "execution_count": null,
      "id": "4fd7057d",
      "metadata": {
        "id": "4fd7057d"
      },
      "outputs": [],
      "source": [
        "data['Punct']=data['review'].apply(lambda x:pun(x))\n"
      ]
    },
    {
      "cell_type": "markdown",
      "id": "T5cOlZJWCqEW",
      "metadata": {
        "id": "T5cOlZJWCqEW"
      },
      "source": [
        "Removing Emoji"
      ]
    },
    {
      "cell_type": "code",
      "execution_count": null,
      "id": "6ff248d3",
      "metadata": {
        "colab": {
          "base_uri": "https://localhost:8080/"
        },
        "id": "6ff248d3",
        "outputId": "fa38fb48-3aa3-4c01-b735-1ae8d0da744b"
      },
      "outputs": [
        {
          "name": "stdout",
          "output_type": "stream",
          "text": [
            "Requirement already satisfied: emoji in c:\\users\\legion\\anaconda3\\lib\\site-packages (2.8.0)\n"
          ]
        }
      ],
      "source": [
        "!pip install emoji"
      ]
    },
    {
      "cell_type": "code",
      "execution_count": null,
      "id": "8e2f0d4f",
      "metadata": {
        "id": "8e2f0d4f"
      },
      "outputs": [],
      "source": [
        "import emoji"
      ]
    },
    {
      "cell_type": "code",
      "execution_count": null,
      "id": "5aad86a9",
      "metadata": {
        "id": "5aad86a9"
      },
      "outputs": [],
      "source": [
        "data['Emoji']=data['Punct'].apply(lambda x:emoji.replace_emoji(x,''))"
      ]
    },
    {
      "cell_type": "code",
      "execution_count": null,
      "id": "c79233af",
      "metadata": {
        "colab": {
          "base_uri": "https://localhost:8080/",
          "height": 527
        },
        "id": "c79233af",
        "outputId": "7936834b-d559-4596-bff6-0b55f01dc4d0"
      },
      "outputs": [
        {
          "data": {
            "text/html": [
              "<div>\n",
              "<style scoped>\n",
              "    .dataframe tbody tr th:only-of-type {\n",
              "        vertical-align: middle;\n",
              "    }\n",
              "\n",
              "    .dataframe tbody tr th {\n",
              "        vertical-align: top;\n",
              "    }\n",
              "\n",
              "    .dataframe thead th {\n",
              "        text-align: right;\n",
              "    }\n",
              "</style>\n",
              "<table border=\"1\" class=\"dataframe\">\n",
              "  <thead>\n",
              "    <tr style=\"text-align: right;\">\n",
              "      <th></th>\n",
              "      <th>review</th>\n",
              "      <th>sentiment</th>\n",
              "      <th>Punct</th>\n",
              "      <th>Emoji</th>\n",
              "    </tr>\n",
              "  </thead>\n",
              "  <tbody>\n",
              "    <tr>\n",
              "      <th>0</th>\n",
              "      <td>One of the other reviewers has mentioned that ...</td>\n",
              "      <td>positive</td>\n",
              "      <td>One of the other reviewers has mentioned that ...</td>\n",
              "      <td>One of the other reviewers has mentioned that ...</td>\n",
              "    </tr>\n",
              "    <tr>\n",
              "      <th>1</th>\n",
              "      <td>A wonderful little production. &lt;br /&gt;&lt;br /&gt;The...</td>\n",
              "      <td>positive</td>\n",
              "      <td>A wonderful little production br br The filmin...</td>\n",
              "      <td>A wonderful little production br br The filmin...</td>\n",
              "    </tr>\n",
              "    <tr>\n",
              "      <th>2</th>\n",
              "      <td>I thought this was a wonderful way to spend ti...</td>\n",
              "      <td>positive</td>\n",
              "      <td>I thought this was a wonderful way to spend ti...</td>\n",
              "      <td>I thought this was a wonderful way to spend ti...</td>\n",
              "    </tr>\n",
              "    <tr>\n",
              "      <th>3</th>\n",
              "      <td>Basically there's a family where a little boy ...</td>\n",
              "      <td>negative</td>\n",
              "      <td>Basically theres a family where a little boy J...</td>\n",
              "      <td>Basically theres a family where a little boy J...</td>\n",
              "    </tr>\n",
              "    <tr>\n",
              "      <th>4</th>\n",
              "      <td>Petter Mattei's \"Love in the Time of Money\" is...</td>\n",
              "      <td>positive</td>\n",
              "      <td>Petter Matteis Love in the Time of Money is a ...</td>\n",
              "      <td>Petter Matteis Love in the Time of Money is a ...</td>\n",
              "    </tr>\n",
              "    <tr>\n",
              "      <th>...</th>\n",
              "      <td>...</td>\n",
              "      <td>...</td>\n",
              "      <td>...</td>\n",
              "      <td>...</td>\n",
              "    </tr>\n",
              "    <tr>\n",
              "      <th>9995</th>\n",
              "      <td>Fun, entertaining movie about WWII German spy ...</td>\n",
              "      <td>positive</td>\n",
              "      <td>Fun entertaining movie about WWII German spy J...</td>\n",
              "      <td>Fun entertaining movie about WWII German spy J...</td>\n",
              "    </tr>\n",
              "    <tr>\n",
              "      <th>9996</th>\n",
              "      <td>Give me a break. How can anyone say that this ...</td>\n",
              "      <td>negative</td>\n",
              "      <td>Give me a break How can anyone say that this i...</td>\n",
              "      <td>Give me a break How can anyone say that this i...</td>\n",
              "    </tr>\n",
              "    <tr>\n",
              "      <th>9997</th>\n",
              "      <td>This movie is a bad movie. But after watching ...</td>\n",
              "      <td>negative</td>\n",
              "      <td>This movie is a bad movie But after watching a...</td>\n",
              "      <td>This movie is a bad movie But after watching a...</td>\n",
              "    </tr>\n",
              "    <tr>\n",
              "      <th>9998</th>\n",
              "      <td>This is a movie that was probably made to ente...</td>\n",
              "      <td>negative</td>\n",
              "      <td>This is a movie that was probably made to ente...</td>\n",
              "      <td>This is a movie that was probably made to ente...</td>\n",
              "    </tr>\n",
              "    <tr>\n",
              "      <th>9999</th>\n",
              "      <td>Smashing film about film-making. Shows the int...</td>\n",
              "      <td>positive</td>\n",
              "      <td>Smashing film about filmmaking Shows the inten...</td>\n",
              "      <td>Smashing film about filmmaking Shows the inten...</td>\n",
              "    </tr>\n",
              "  </tbody>\n",
              "</table>\n",
              "<p>10000 rows × 4 columns</p>\n",
              "</div>"
            ],
            "text/plain": [
              "                                                 review sentiment  \\\n",
              "0     One of the other reviewers has mentioned that ...  positive   \n",
              "1     A wonderful little production. <br /><br />The...  positive   \n",
              "2     I thought this was a wonderful way to spend ti...  positive   \n",
              "3     Basically there's a family where a little boy ...  negative   \n",
              "4     Petter Mattei's \"Love in the Time of Money\" is...  positive   \n",
              "...                                                 ...       ...   \n",
              "9995  Fun, entertaining movie about WWII German spy ...  positive   \n",
              "9996  Give me a break. How can anyone say that this ...  negative   \n",
              "9997  This movie is a bad movie. But after watching ...  negative   \n",
              "9998  This is a movie that was probably made to ente...  negative   \n",
              "9999  Smashing film about film-making. Shows the int...  positive   \n",
              "\n",
              "                                                  Punct  \\\n",
              "0     One of the other reviewers has mentioned that ...   \n",
              "1     A wonderful little production br br The filmin...   \n",
              "2     I thought this was a wonderful way to spend ti...   \n",
              "3     Basically theres a family where a little boy J...   \n",
              "4     Petter Matteis Love in the Time of Money is a ...   \n",
              "...                                                 ...   \n",
              "9995  Fun entertaining movie about WWII German spy J...   \n",
              "9996  Give me a break How can anyone say that this i...   \n",
              "9997  This movie is a bad movie But after watching a...   \n",
              "9998  This is a movie that was probably made to ente...   \n",
              "9999  Smashing film about filmmaking Shows the inten...   \n",
              "\n",
              "                                                  Emoji  \n",
              "0     One of the other reviewers has mentioned that ...  \n",
              "1     A wonderful little production br br The filmin...  \n",
              "2     I thought this was a wonderful way to spend ti...  \n",
              "3     Basically theres a family where a little boy J...  \n",
              "4     Petter Matteis Love in the Time of Money is a ...  \n",
              "...                                                 ...  \n",
              "9995  Fun entertaining movie about WWII German spy J...  \n",
              "9996  Give me a break How can anyone say that this i...  \n",
              "9997  This movie is a bad movie But after watching a...  \n",
              "9998  This is a movie that was probably made to ente...  \n",
              "9999  Smashing film about filmmaking Shows the inten...  \n",
              "\n",
              "[10000 rows x 4 columns]"
            ]
          },
          "execution_count": 14,
          "metadata": {},
          "output_type": "execute_result"
        }
      ],
      "source": [
        "data"
      ]
    },
    {
      "cell_type": "markdown",
      "id": "QQthbx8QCvN5",
      "metadata": {
        "id": "QQthbx8QCvN5"
      },
      "source": [
        "Tokenization, Lemmitization, Stemming"
      ]
    },
    {
      "cell_type": "code",
      "execution_count": null,
      "id": "678df4fa",
      "metadata": {
        "colab": {
          "base_uri": "https://localhost:8080/"
        },
        "id": "678df4fa",
        "outputId": "ad9b744e-af7d-4b7f-b24a-04eec2d7c50e"
      },
      "outputs": [
        {
          "name": "stderr",
          "output_type": "stream",
          "text": [
            "[nltk_data] Downloading package stopwords to\n",
            "[nltk_data]     C:\\Users\\LEGION\\AppData\\Roaming\\nltk_data...\n",
            "[nltk_data]   Package stopwords is already up-to-date!\n",
            "[nltk_data] Downloading package punkt to\n",
            "[nltk_data]     C:\\Users\\LEGION\\AppData\\Roaming\\nltk_data...\n",
            "[nltk_data]   Package punkt is already up-to-date!\n",
            "[nltk_data] Downloading package wordnet to\n",
            "[nltk_data]     C:\\Users\\LEGION\\AppData\\Roaming\\nltk_data...\n",
            "[nltk_data]   Package wordnet is already up-to-date!\n"
          ]
        },
        {
          "data": {
            "text/plain": [
              "True"
            ]
          },
          "execution_count": 15,
          "metadata": {},
          "output_type": "execute_result"
        }
      ],
      "source": [
        "nltk.download('stopwords')\n",
        "nltk.download('punkt')\n",
        "nltk.download('wordnet')"
      ]
    },
    {
      "cell_type": "code",
      "execution_count": null,
      "id": "a6070d86",
      "metadata": {
        "id": "a6070d86"
      },
      "outputs": [],
      "source": [
        "LE=WordNetLemmatizer()"
      ]
    },
    {
      "cell_type": "code",
      "execution_count": null,
      "id": "c2e74f22",
      "metadata": {
        "id": "c2e74f22"
      },
      "outputs": [],
      "source": [
        "sw=stopwords.words('english')"
      ]
    },
    {
      "cell_type": "code",
      "execution_count": null,
      "id": "f873df16",
      "metadata": {
        "id": "f873df16"
      },
      "outputs": [],
      "source": [
        "Ps=PorterStemmer()"
      ]
    },
    {
      "cell_type": "code",
      "execution_count": null,
      "id": "1e77629a",
      "metadata": {
        "id": "1e77629a"
      },
      "outputs": [],
      "source": [
        "def preprocess(x):\n",
        "  a=x.lower()\n",
        "  b=''.join([i for i in a if i not in punctuation])\n",
        "  c=word_tokenize(b)\n",
        "  d=' '.join([Ps.stem(i) for i in c if i not in stopwords.words('english')])\n",
        "  return d"
      ]
    },
    {
      "cell_type": "code",
      "execution_count": null,
      "id": "63a9653e",
      "metadata": {
        "colab": {
          "base_uri": "https://localhost:8080/",
          "height": 597
        },
        "id": "63a9653e",
        "outputId": "d633291a-8970-44fe-ba38-53ff9fe0df50"
      },
      "outputs": [
        {
          "data": {
            "text/html": [
              "<div>\n",
              "<style scoped>\n",
              "    .dataframe tbody tr th:only-of-type {\n",
              "        vertical-align: middle;\n",
              "    }\n",
              "\n",
              "    .dataframe tbody tr th {\n",
              "        vertical-align: top;\n",
              "    }\n",
              "\n",
              "    .dataframe thead th {\n",
              "        text-align: right;\n",
              "    }\n",
              "</style>\n",
              "<table border=\"1\" class=\"dataframe\">\n",
              "  <thead>\n",
              "    <tr style=\"text-align: right;\">\n",
              "      <th></th>\n",
              "      <th>review</th>\n",
              "      <th>sentiment</th>\n",
              "      <th>Punct</th>\n",
              "      <th>Emoji</th>\n",
              "      <th>Preprocess</th>\n",
              "    </tr>\n",
              "  </thead>\n",
              "  <tbody>\n",
              "    <tr>\n",
              "      <th>0</th>\n",
              "      <td>One of the other reviewers has mentioned that ...</td>\n",
              "      <td>positive</td>\n",
              "      <td>One of the other reviewers has mentioned that ...</td>\n",
              "      <td>One of the other reviewers has mentioned that ...</td>\n",
              "      <td>one review mention watch 1 oz episod youll hoo...</td>\n",
              "    </tr>\n",
              "    <tr>\n",
              "      <th>1</th>\n",
              "      <td>A wonderful little production. &lt;br /&gt;&lt;br /&gt;The...</td>\n",
              "      <td>positive</td>\n",
              "      <td>A wonderful little production br br The filmin...</td>\n",
              "      <td>A wonderful little production br br The filmin...</td>\n",
              "      <td>wonder littl product br br film techniqu unass...</td>\n",
              "    </tr>\n",
              "    <tr>\n",
              "      <th>2</th>\n",
              "      <td>I thought this was a wonderful way to spend ti...</td>\n",
              "      <td>positive</td>\n",
              "      <td>I thought this was a wonderful way to spend ti...</td>\n",
              "      <td>I thought this was a wonderful way to spend ti...</td>\n",
              "      <td>thought wonder way spend time hot summer weeke...</td>\n",
              "    </tr>\n",
              "    <tr>\n",
              "      <th>3</th>\n",
              "      <td>Basically there's a family where a little boy ...</td>\n",
              "      <td>negative</td>\n",
              "      <td>Basically theres a family where a little boy J...</td>\n",
              "      <td>Basically theres a family where a little boy J...</td>\n",
              "      <td>basic there famili littl boy jake think there ...</td>\n",
              "    </tr>\n",
              "    <tr>\n",
              "      <th>4</th>\n",
              "      <td>Petter Mattei's \"Love in the Time of Money\" is...</td>\n",
              "      <td>positive</td>\n",
              "      <td>Petter Matteis Love in the Time of Money is a ...</td>\n",
              "      <td>Petter Matteis Love in the Time of Money is a ...</td>\n",
              "      <td>petter mattei love time money visual stun film...</td>\n",
              "    </tr>\n",
              "    <tr>\n",
              "      <th>...</th>\n",
              "      <td>...</td>\n",
              "      <td>...</td>\n",
              "      <td>...</td>\n",
              "      <td>...</td>\n",
              "      <td>...</td>\n",
              "    </tr>\n",
              "    <tr>\n",
              "      <th>9995</th>\n",
              "      <td>Fun, entertaining movie about WWII German spy ...</td>\n",
              "      <td>positive</td>\n",
              "      <td>Fun entertaining movie about WWII German spy J...</td>\n",
              "      <td>Fun entertaining movie about WWII German spy J...</td>\n",
              "      <td>fun entertain movi wwii german spi juli andrew...</td>\n",
              "    </tr>\n",
              "    <tr>\n",
              "      <th>9996</th>\n",
              "      <td>Give me a break. How can anyone say that this ...</td>\n",
              "      <td>negative</td>\n",
              "      <td>Give me a break How can anyone say that this i...</td>\n",
              "      <td>Give me a break How can anyone say that this i...</td>\n",
              "      <td>give break anyon say good hockey movi know mov...</td>\n",
              "    </tr>\n",
              "    <tr>\n",
              "      <th>9997</th>\n",
              "      <td>This movie is a bad movie. But after watching ...</td>\n",
              "      <td>negative</td>\n",
              "      <td>This movie is a bad movie But after watching a...</td>\n",
              "      <td>This movie is a bad movie But after watching a...</td>\n",
              "      <td>movi bad movi watch endless seri bad horror mo...</td>\n",
              "    </tr>\n",
              "    <tr>\n",
              "      <th>9998</th>\n",
              "      <td>This is a movie that was probably made to ente...</td>\n",
              "      <td>negative</td>\n",
              "      <td>This is a movie that was probably made to ente...</td>\n",
              "      <td>This is a movie that was probably made to ente...</td>\n",
              "      <td>movi probabl made entertain middl school earli...</td>\n",
              "    </tr>\n",
              "    <tr>\n",
              "      <th>9999</th>\n",
              "      <td>Smashing film about film-making. Shows the int...</td>\n",
              "      <td>positive</td>\n",
              "      <td>Smashing film about filmmaking Shows the inten...</td>\n",
              "      <td>Smashing film about filmmaking Shows the inten...</td>\n",
              "      <td>smash film filmmak show intens strang relation...</td>\n",
              "    </tr>\n",
              "  </tbody>\n",
              "</table>\n",
              "<p>10000 rows × 5 columns</p>\n",
              "</div>"
            ],
            "text/plain": [
              "                                                 review sentiment  \\\n",
              "0     One of the other reviewers has mentioned that ...  positive   \n",
              "1     A wonderful little production. <br /><br />The...  positive   \n",
              "2     I thought this was a wonderful way to spend ti...  positive   \n",
              "3     Basically there's a family where a little boy ...  negative   \n",
              "4     Petter Mattei's \"Love in the Time of Money\" is...  positive   \n",
              "...                                                 ...       ...   \n",
              "9995  Fun, entertaining movie about WWII German spy ...  positive   \n",
              "9996  Give me a break. How can anyone say that this ...  negative   \n",
              "9997  This movie is a bad movie. But after watching ...  negative   \n",
              "9998  This is a movie that was probably made to ente...  negative   \n",
              "9999  Smashing film about film-making. Shows the int...  positive   \n",
              "\n",
              "                                                  Punct  \\\n",
              "0     One of the other reviewers has mentioned that ...   \n",
              "1     A wonderful little production br br The filmin...   \n",
              "2     I thought this was a wonderful way to spend ti...   \n",
              "3     Basically theres a family where a little boy J...   \n",
              "4     Petter Matteis Love in the Time of Money is a ...   \n",
              "...                                                 ...   \n",
              "9995  Fun entertaining movie about WWII German spy J...   \n",
              "9996  Give me a break How can anyone say that this i...   \n",
              "9997  This movie is a bad movie But after watching a...   \n",
              "9998  This is a movie that was probably made to ente...   \n",
              "9999  Smashing film about filmmaking Shows the inten...   \n",
              "\n",
              "                                                  Emoji  \\\n",
              "0     One of the other reviewers has mentioned that ...   \n",
              "1     A wonderful little production br br The filmin...   \n",
              "2     I thought this was a wonderful way to spend ti...   \n",
              "3     Basically theres a family where a little boy J...   \n",
              "4     Petter Matteis Love in the Time of Money is a ...   \n",
              "...                                                 ...   \n",
              "9995  Fun entertaining movie about WWII German spy J...   \n",
              "9996  Give me a break How can anyone say that this i...   \n",
              "9997  This movie is a bad movie But after watching a...   \n",
              "9998  This is a movie that was probably made to ente...   \n",
              "9999  Smashing film about filmmaking Shows the inten...   \n",
              "\n",
              "                                             Preprocess  \n",
              "0     one review mention watch 1 oz episod youll hoo...  \n",
              "1     wonder littl product br br film techniqu unass...  \n",
              "2     thought wonder way spend time hot summer weeke...  \n",
              "3     basic there famili littl boy jake think there ...  \n",
              "4     petter mattei love time money visual stun film...  \n",
              "...                                                 ...  \n",
              "9995  fun entertain movi wwii german spi juli andrew...  \n",
              "9996  give break anyon say good hockey movi know mov...  \n",
              "9997  movi bad movi watch endless seri bad horror mo...  \n",
              "9998  movi probabl made entertain middl school earli...  \n",
              "9999  smash film filmmak show intens strang relation...  \n",
              "\n",
              "[10000 rows x 5 columns]"
            ]
          },
          "execution_count": 20,
          "metadata": {},
          "output_type": "execute_result"
        }
      ],
      "source": [
        "data['Preprocess']=data['Emoji'].apply(lambda x:preprocess(x))\n",
        "data"
      ]
    },
    {
      "cell_type": "markdown",
      "id": "IZYxpytU46ki",
      "metadata": {
        "id": "IZYxpytU46ki"
      },
      "source": [
        "Removing the html strips"
      ]
    },
    {
      "cell_type": "code",
      "execution_count": null,
      "id": "32628f1e",
      "metadata": {
        "colab": {
          "base_uri": "https://localhost:8080/"
        },
        "id": "32628f1e",
        "outputId": "dcc0d636-500a-4084-db07-6abdf02882d7"
      },
      "outputs": [
        {
          "name": "stdout",
          "output_type": "stream",
          "text": [
            "Requirement already satisfied: beautifulsoup4 in c:\\users\\legion\\anaconda3\\lib\\site-packages (4.12.2)\n",
            "Requirement already satisfied: soupsieve>1.2 in c:\\users\\legion\\anaconda3\\lib\\site-packages (from beautifulsoup4) (2.4)\n"
          ]
        }
      ],
      "source": [
        "!pip install beautifulsoup4"
      ]
    },
    {
      "cell_type": "code",
      "execution_count": null,
      "id": "48f46324",
      "metadata": {
        "id": "48f46324"
      },
      "outputs": [],
      "source": [
        "from bs4 import BeautifulSoup"
      ]
    },
    {
      "cell_type": "code",
      "execution_count": null,
      "id": "9c12956e",
      "metadata": {
        "id": "9c12956e"
      },
      "outputs": [],
      "source": [
        "#Removing the html strips\n",
        "def strip_html(text):\n",
        "    soup = BeautifulSoup(text, \"html.parser\")\n",
        "    return soup.get_text()\n",
        "\n",
        "#Removing the noisy text\n",
        "def denoise_text(text):\n",
        "    text = strip_html(text)\n",
        "    return text"
      ]
    },
    {
      "cell_type": "code",
      "execution_count": null,
      "id": "d81c311a",
      "metadata": {
        "colab": {
          "base_uri": "https://localhost:8080/",
          "height": 684
        },
        "id": "d81c311a",
        "outputId": "a855fe2b-a3e0-4001-e6a1-f1989c40e2d4"
      },
      "outputs": [
        {
          "data": {
            "text/html": [
              "<div>\n",
              "<style scoped>\n",
              "    .dataframe tbody tr th:only-of-type {\n",
              "        vertical-align: middle;\n",
              "    }\n",
              "\n",
              "    .dataframe tbody tr th {\n",
              "        vertical-align: top;\n",
              "    }\n",
              "\n",
              "    .dataframe thead th {\n",
              "        text-align: right;\n",
              "    }\n",
              "</style>\n",
              "<table border=\"1\" class=\"dataframe\">\n",
              "  <thead>\n",
              "    <tr style=\"text-align: right;\">\n",
              "      <th></th>\n",
              "      <th>review</th>\n",
              "      <th>sentiment</th>\n",
              "      <th>Punct</th>\n",
              "      <th>Emoji</th>\n",
              "      <th>Preprocess</th>\n",
              "      <th>Final</th>\n",
              "    </tr>\n",
              "  </thead>\n",
              "  <tbody>\n",
              "    <tr>\n",
              "      <th>0</th>\n",
              "      <td>One of the other reviewers has mentioned that ...</td>\n",
              "      <td>positive</td>\n",
              "      <td>One of the other reviewers has mentioned that ...</td>\n",
              "      <td>One of the other reviewers has mentioned that ...</td>\n",
              "      <td>one review mention watch 1 oz episod youll hoo...</td>\n",
              "      <td>one review mention watch 1 oz episod youll hoo...</td>\n",
              "    </tr>\n",
              "    <tr>\n",
              "      <th>1</th>\n",
              "      <td>A wonderful little production. &lt;br /&gt;&lt;br /&gt;The...</td>\n",
              "      <td>positive</td>\n",
              "      <td>A wonderful little production br br The filmin...</td>\n",
              "      <td>A wonderful little production br br The filmin...</td>\n",
              "      <td>wonder littl product br br film techniqu unass...</td>\n",
              "      <td>wonder littl product br br film techniqu unass...</td>\n",
              "    </tr>\n",
              "    <tr>\n",
              "      <th>2</th>\n",
              "      <td>I thought this was a wonderful way to spend ti...</td>\n",
              "      <td>positive</td>\n",
              "      <td>I thought this was a wonderful way to spend ti...</td>\n",
              "      <td>I thought this was a wonderful way to spend ti...</td>\n",
              "      <td>thought wonder way spend time hot summer weeke...</td>\n",
              "      <td>thought wonder way spend time hot summer weeke...</td>\n",
              "    </tr>\n",
              "    <tr>\n",
              "      <th>3</th>\n",
              "      <td>Basically there's a family where a little boy ...</td>\n",
              "      <td>negative</td>\n",
              "      <td>Basically theres a family where a little boy J...</td>\n",
              "      <td>Basically theres a family where a little boy J...</td>\n",
              "      <td>basic there famili littl boy jake think there ...</td>\n",
              "      <td>basic there famili littl boy jake think there ...</td>\n",
              "    </tr>\n",
              "    <tr>\n",
              "      <th>4</th>\n",
              "      <td>Petter Mattei's \"Love in the Time of Money\" is...</td>\n",
              "      <td>positive</td>\n",
              "      <td>Petter Matteis Love in the Time of Money is a ...</td>\n",
              "      <td>Petter Matteis Love in the Time of Money is a ...</td>\n",
              "      <td>petter mattei love time money visual stun film...</td>\n",
              "      <td>petter mattei love time money visual stun film...</td>\n",
              "    </tr>\n",
              "    <tr>\n",
              "      <th>...</th>\n",
              "      <td>...</td>\n",
              "      <td>...</td>\n",
              "      <td>...</td>\n",
              "      <td>...</td>\n",
              "      <td>...</td>\n",
              "      <td>...</td>\n",
              "    </tr>\n",
              "    <tr>\n",
              "      <th>9995</th>\n",
              "      <td>Fun, entertaining movie about WWII German spy ...</td>\n",
              "      <td>positive</td>\n",
              "      <td>Fun entertaining movie about WWII German spy J...</td>\n",
              "      <td>Fun entertaining movie about WWII German spy J...</td>\n",
              "      <td>fun entertain movi wwii german spi juli andrew...</td>\n",
              "      <td>fun entertain movi wwii german spi juli andrew...</td>\n",
              "    </tr>\n",
              "    <tr>\n",
              "      <th>9996</th>\n",
              "      <td>Give me a break. How can anyone say that this ...</td>\n",
              "      <td>negative</td>\n",
              "      <td>Give me a break How can anyone say that this i...</td>\n",
              "      <td>Give me a break How can anyone say that this i...</td>\n",
              "      <td>give break anyon say good hockey movi know mov...</td>\n",
              "      <td>give break anyon say good hockey movi know mov...</td>\n",
              "    </tr>\n",
              "    <tr>\n",
              "      <th>9997</th>\n",
              "      <td>This movie is a bad movie. But after watching ...</td>\n",
              "      <td>negative</td>\n",
              "      <td>This movie is a bad movie But after watching a...</td>\n",
              "      <td>This movie is a bad movie But after watching a...</td>\n",
              "      <td>movi bad movi watch endless seri bad horror mo...</td>\n",
              "      <td>movi bad movi watch endless seri bad horror mo...</td>\n",
              "    </tr>\n",
              "    <tr>\n",
              "      <th>9998</th>\n",
              "      <td>This is a movie that was probably made to ente...</td>\n",
              "      <td>negative</td>\n",
              "      <td>This is a movie that was probably made to ente...</td>\n",
              "      <td>This is a movie that was probably made to ente...</td>\n",
              "      <td>movi probabl made entertain middl school earli...</td>\n",
              "      <td>movi probabl made entertain middl school earli...</td>\n",
              "    </tr>\n",
              "    <tr>\n",
              "      <th>9999</th>\n",
              "      <td>Smashing film about film-making. Shows the int...</td>\n",
              "      <td>positive</td>\n",
              "      <td>Smashing film about filmmaking Shows the inten...</td>\n",
              "      <td>Smashing film about filmmaking Shows the inten...</td>\n",
              "      <td>smash film filmmak show intens strang relation...</td>\n",
              "      <td>smash film filmmak show intens strang relation...</td>\n",
              "    </tr>\n",
              "  </tbody>\n",
              "</table>\n",
              "<p>10000 rows × 6 columns</p>\n",
              "</div>"
            ],
            "text/plain": [
              "                                                 review sentiment  \\\n",
              "0     One of the other reviewers has mentioned that ...  positive   \n",
              "1     A wonderful little production. <br /><br />The...  positive   \n",
              "2     I thought this was a wonderful way to spend ti...  positive   \n",
              "3     Basically there's a family where a little boy ...  negative   \n",
              "4     Petter Mattei's \"Love in the Time of Money\" is...  positive   \n",
              "...                                                 ...       ...   \n",
              "9995  Fun, entertaining movie about WWII German spy ...  positive   \n",
              "9996  Give me a break. How can anyone say that this ...  negative   \n",
              "9997  This movie is a bad movie. But after watching ...  negative   \n",
              "9998  This is a movie that was probably made to ente...  negative   \n",
              "9999  Smashing film about film-making. Shows the int...  positive   \n",
              "\n",
              "                                                  Punct  \\\n",
              "0     One of the other reviewers has mentioned that ...   \n",
              "1     A wonderful little production br br The filmin...   \n",
              "2     I thought this was a wonderful way to spend ti...   \n",
              "3     Basically theres a family where a little boy J...   \n",
              "4     Petter Matteis Love in the Time of Money is a ...   \n",
              "...                                                 ...   \n",
              "9995  Fun entertaining movie about WWII German spy J...   \n",
              "9996  Give me a break How can anyone say that this i...   \n",
              "9997  This movie is a bad movie But after watching a...   \n",
              "9998  This is a movie that was probably made to ente...   \n",
              "9999  Smashing film about filmmaking Shows the inten...   \n",
              "\n",
              "                                                  Emoji  \\\n",
              "0     One of the other reviewers has mentioned that ...   \n",
              "1     A wonderful little production br br The filmin...   \n",
              "2     I thought this was a wonderful way to spend ti...   \n",
              "3     Basically theres a family where a little boy J...   \n",
              "4     Petter Matteis Love in the Time of Money is a ...   \n",
              "...                                                 ...   \n",
              "9995  Fun entertaining movie about WWII German spy J...   \n",
              "9996  Give me a break How can anyone say that this i...   \n",
              "9997  This movie is a bad movie But after watching a...   \n",
              "9998  This is a movie that was probably made to ente...   \n",
              "9999  Smashing film about filmmaking Shows the inten...   \n",
              "\n",
              "                                             Preprocess  \\\n",
              "0     one review mention watch 1 oz episod youll hoo...   \n",
              "1     wonder littl product br br film techniqu unass...   \n",
              "2     thought wonder way spend time hot summer weeke...   \n",
              "3     basic there famili littl boy jake think there ...   \n",
              "4     petter mattei love time money visual stun film...   \n",
              "...                                                 ...   \n",
              "9995  fun entertain movi wwii german spi juli andrew...   \n",
              "9996  give break anyon say good hockey movi know mov...   \n",
              "9997  movi bad movi watch endless seri bad horror mo...   \n",
              "9998  movi probabl made entertain middl school earli...   \n",
              "9999  smash film filmmak show intens strang relation...   \n",
              "\n",
              "                                                  Final  \n",
              "0     one review mention watch 1 oz episod youll hoo...  \n",
              "1     wonder littl product br br film techniqu unass...  \n",
              "2     thought wonder way spend time hot summer weeke...  \n",
              "3     basic there famili littl boy jake think there ...  \n",
              "4     petter mattei love time money visual stun film...  \n",
              "...                                                 ...  \n",
              "9995  fun entertain movi wwii german spi juli andrew...  \n",
              "9996  give break anyon say good hockey movi know mov...  \n",
              "9997  movi bad movi watch endless seri bad horror mo...  \n",
              "9998  movi probabl made entertain middl school earli...  \n",
              "9999  smash film filmmak show intens strang relation...  \n",
              "\n",
              "[10000 rows x 6 columns]"
            ]
          },
          "execution_count": 24,
          "metadata": {},
          "output_type": "execute_result"
        }
      ],
      "source": [
        "#Apply function on review column\n",
        "data['Final']=data['Preprocess'].apply(denoise_text)\n",
        "data"
      ]
    },
    {
      "cell_type": "markdown",
      "id": "rdQA4SdgGX9j",
      "metadata": {
        "id": "rdQA4SdgGX9j"
      },
      "source": [
        "Dropping Unnessary Columns"
      ]
    },
    {
      "cell_type": "code",
      "execution_count": null,
      "id": "b76e6c29",
      "metadata": {
        "colab": {
          "base_uri": "https://localhost:8080/",
          "height": 423
        },
        "id": "b76e6c29",
        "outputId": "d508f587-6c0e-4286-baf8-7e543585f776"
      },
      "outputs": [
        {
          "data": {
            "text/html": [
              "<div>\n",
              "<style scoped>\n",
              "    .dataframe tbody tr th:only-of-type {\n",
              "        vertical-align: middle;\n",
              "    }\n",
              "\n",
              "    .dataframe tbody tr th {\n",
              "        vertical-align: top;\n",
              "    }\n",
              "\n",
              "    .dataframe thead th {\n",
              "        text-align: right;\n",
              "    }\n",
              "</style>\n",
              "<table border=\"1\" class=\"dataframe\">\n",
              "  <thead>\n",
              "    <tr style=\"text-align: right;\">\n",
              "      <th></th>\n",
              "      <th>Final</th>\n",
              "    </tr>\n",
              "  </thead>\n",
              "  <tbody>\n",
              "    <tr>\n",
              "      <th>0</th>\n",
              "      <td>one review mention watch 1 oz episod youll hoo...</td>\n",
              "    </tr>\n",
              "    <tr>\n",
              "      <th>1</th>\n",
              "      <td>wonder littl product br br film techniqu unass...</td>\n",
              "    </tr>\n",
              "    <tr>\n",
              "      <th>2</th>\n",
              "      <td>thought wonder way spend time hot summer weeke...</td>\n",
              "    </tr>\n",
              "    <tr>\n",
              "      <th>3</th>\n",
              "      <td>basic there famili littl boy jake think there ...</td>\n",
              "    </tr>\n",
              "    <tr>\n",
              "      <th>4</th>\n",
              "      <td>petter mattei love time money visual stun film...</td>\n",
              "    </tr>\n",
              "    <tr>\n",
              "      <th>...</th>\n",
              "      <td>...</td>\n",
              "    </tr>\n",
              "    <tr>\n",
              "      <th>9995</th>\n",
              "      <td>fun entertain movi wwii german spi juli andrew...</td>\n",
              "    </tr>\n",
              "    <tr>\n",
              "      <th>9996</th>\n",
              "      <td>give break anyon say good hockey movi know mov...</td>\n",
              "    </tr>\n",
              "    <tr>\n",
              "      <th>9997</th>\n",
              "      <td>movi bad movi watch endless seri bad horror mo...</td>\n",
              "    </tr>\n",
              "    <tr>\n",
              "      <th>9998</th>\n",
              "      <td>movi probabl made entertain middl school earli...</td>\n",
              "    </tr>\n",
              "    <tr>\n",
              "      <th>9999</th>\n",
              "      <td>smash film filmmak show intens strang relation...</td>\n",
              "    </tr>\n",
              "  </tbody>\n",
              "</table>\n",
              "<p>10000 rows × 1 columns</p>\n",
              "</div>"
            ],
            "text/plain": [
              "                                                  Final\n",
              "0     one review mention watch 1 oz episod youll hoo...\n",
              "1     wonder littl product br br film techniqu unass...\n",
              "2     thought wonder way spend time hot summer weeke...\n",
              "3     basic there famili littl boy jake think there ...\n",
              "4     petter mattei love time money visual stun film...\n",
              "...                                                 ...\n",
              "9995  fun entertain movi wwii german spi juli andrew...\n",
              "9996  give break anyon say good hockey movi know mov...\n",
              "9997  movi bad movi watch endless seri bad horror mo...\n",
              "9998  movi probabl made entertain middl school earli...\n",
              "9999  smash film filmmak show intens strang relation...\n",
              "\n",
              "[10000 rows x 1 columns]"
            ]
          },
          "execution_count": 25,
          "metadata": {},
          "output_type": "execute_result"
        }
      ],
      "source": [
        "data.drop(['review', 'sentiment','Punct','Emoji','Preprocess'], axis=1,inplace=True)\n",
        "data"
      ]
    },
    {
      "cell_type": "markdown",
      "id": "DDMTLYayKeLp",
      "metadata": {
        "id": "DDMTLYayKeLp"
      },
      "source": [
        "Vectorizer"
      ]
    },
    {
      "cell_type": "code",
      "execution_count": null,
      "id": "df2fa4da",
      "metadata": {
        "id": "df2fa4da"
      },
      "outputs": [],
      "source": [
        "from sklearn.feature_extraction.text import TfidfVectorizer"
      ]
    },
    {
      "cell_type": "code",
      "execution_count": null,
      "id": "f303f63b",
      "metadata": {
        "id": "f303f63b"
      },
      "outputs": [],
      "source": [
        "Tif=TfidfVectorizer()"
      ]
    },
    {
      "cell_type": "code",
      "execution_count": null,
      "id": "eb2e2b9c",
      "metadata": {
        "id": "eb2e2b9c"
      },
      "outputs": [],
      "source": [
        "new=Tif.fit_transform(data['Final']).toarray()"
      ]
    },
    {
      "cell_type": "code",
      "execution_count": null,
      "id": "ca23f6e5",
      "metadata": {
        "colab": {
          "base_uri": "https://localhost:8080/",
          "height": 192
        },
        "id": "ca23f6e5",
        "outputId": "d46d9931-a0ef-4c12-847c-ca61e57a3ed6"
      },
      "outputs": [
        {
          "data": {
            "text/html": [
              "<div>\n",
              "<style scoped>\n",
              "    .dataframe tbody tr th:only-of-type {\n",
              "        vertical-align: middle;\n",
              "    }\n",
              "\n",
              "    .dataframe tbody tr th {\n",
              "        vertical-align: top;\n",
              "    }\n",
              "\n",
              "    .dataframe thead th {\n",
              "        text-align: right;\n",
              "    }\n",
              "</style>\n",
              "<table border=\"1\" class=\"dataframe\">\n",
              "  <thead>\n",
              "    <tr style=\"text-align: right;\">\n",
              "      <th></th>\n",
              "      <th>00</th>\n",
              "      <th>000</th>\n",
              "      <th>00000110</th>\n",
              "      <th>0001</th>\n",
              "      <th>0069</th>\n",
              "      <th>007</th>\n",
              "      <th>01</th>\n",
              "      <th>010</th>\n",
              "      <th>01000</th>\n",
              "      <th>0126</th>\n",
              "      <th>...</th>\n",
              "      <th>étcother</th>\n",
              "      <th>êtrepeutêtr</th>\n",
              "      <th>ís</th>\n",
              "      <th>ísnt</th>\n",
              "      <th>ïn</th>\n",
              "      <th>óli</th>\n",
              "      <th>önsjön</th>\n",
              "      <th>über</th>\n",
              "      <th>überwoman</th>\n",
              "      <th>ünfaith</th>\n",
              "    </tr>\n",
              "  </thead>\n",
              "  <tbody>\n",
              "    <tr>\n",
              "      <th>0</th>\n",
              "      <td>0.0</td>\n",
              "      <td>0.0</td>\n",
              "      <td>0.0</td>\n",
              "      <td>0.0</td>\n",
              "      <td>0.0</td>\n",
              "      <td>0.0</td>\n",
              "      <td>0.0</td>\n",
              "      <td>0.0</td>\n",
              "      <td>0.0</td>\n",
              "      <td>0.0</td>\n",
              "      <td>...</td>\n",
              "      <td>0.0</td>\n",
              "      <td>0.0</td>\n",
              "      <td>0.0</td>\n",
              "      <td>0.0</td>\n",
              "      <td>0.0</td>\n",
              "      <td>0.0</td>\n",
              "      <td>0.0</td>\n",
              "      <td>0.0</td>\n",
              "      <td>0.0</td>\n",
              "      <td>0.0</td>\n",
              "    </tr>\n",
              "    <tr>\n",
              "      <th>1</th>\n",
              "      <td>0.0</td>\n",
              "      <td>0.0</td>\n",
              "      <td>0.0</td>\n",
              "      <td>0.0</td>\n",
              "      <td>0.0</td>\n",
              "      <td>0.0</td>\n",
              "      <td>0.0</td>\n",
              "      <td>0.0</td>\n",
              "      <td>0.0</td>\n",
              "      <td>0.0</td>\n",
              "      <td>...</td>\n",
              "      <td>0.0</td>\n",
              "      <td>0.0</td>\n",
              "      <td>0.0</td>\n",
              "      <td>0.0</td>\n",
              "      <td>0.0</td>\n",
              "      <td>0.0</td>\n",
              "      <td>0.0</td>\n",
              "      <td>0.0</td>\n",
              "      <td>0.0</td>\n",
              "      <td>0.0</td>\n",
              "    </tr>\n",
              "    <tr>\n",
              "      <th>2</th>\n",
              "      <td>0.0</td>\n",
              "      <td>0.0</td>\n",
              "      <td>0.0</td>\n",
              "      <td>0.0</td>\n",
              "      <td>0.0</td>\n",
              "      <td>0.0</td>\n",
              "      <td>0.0</td>\n",
              "      <td>0.0</td>\n",
              "      <td>0.0</td>\n",
              "      <td>0.0</td>\n",
              "      <td>...</td>\n",
              "      <td>0.0</td>\n",
              "      <td>0.0</td>\n",
              "      <td>0.0</td>\n",
              "      <td>0.0</td>\n",
              "      <td>0.0</td>\n",
              "      <td>0.0</td>\n",
              "      <td>0.0</td>\n",
              "      <td>0.0</td>\n",
              "      <td>0.0</td>\n",
              "      <td>0.0</td>\n",
              "    </tr>\n",
              "  </tbody>\n",
              "</table>\n",
              "<p>3 rows × 55285 columns</p>\n",
              "</div>"
            ],
            "text/plain": [
              "    00  000  00000110  0001  0069  007   01  010  01000  0126  ...  étcother  \\\n",
              "0  0.0  0.0       0.0   0.0   0.0  0.0  0.0  0.0    0.0   0.0  ...       0.0   \n",
              "1  0.0  0.0       0.0   0.0   0.0  0.0  0.0  0.0    0.0   0.0  ...       0.0   \n",
              "2  0.0  0.0       0.0   0.0   0.0  0.0  0.0  0.0    0.0   0.0  ...       0.0   \n",
              "\n",
              "   êtrepeutêtr   ís  ísnt   ïn  óli  önsjön  über  überwoman  ünfaith  \n",
              "0          0.0  0.0   0.0  0.0  0.0     0.0   0.0        0.0      0.0  \n",
              "1          0.0  0.0   0.0  0.0  0.0     0.0   0.0        0.0      0.0  \n",
              "2          0.0  0.0   0.0  0.0  0.0     0.0   0.0        0.0      0.0  \n",
              "\n",
              "[3 rows x 55285 columns]"
            ]
          },
          "execution_count": 29,
          "metadata": {},
          "output_type": "execute_result"
        }
      ],
      "source": [
        "NewData=pd.DataFrame(new,columns=Tif.get_feature_names_out())\n",
        "NewData.head(3)"
      ]
    },
    {
      "cell_type": "code",
      "execution_count": null,
      "id": "3769e092",
      "metadata": {
        "colab": {
          "base_uri": "https://localhost:8080/",
          "height": 423
        },
        "id": "3769e092",
        "outputId": "9d516036-161f-415a-e64e-ed967887d219"
      },
      "outputs": [
        {
          "data": {
            "text/html": [
              "<div>\n",
              "<style scoped>\n",
              "    .dataframe tbody tr th:only-of-type {\n",
              "        vertical-align: middle;\n",
              "    }\n",
              "\n",
              "    .dataframe tbody tr th {\n",
              "        vertical-align: top;\n",
              "    }\n",
              "\n",
              "    .dataframe thead th {\n",
              "        text-align: right;\n",
              "    }\n",
              "</style>\n",
              "<table border=\"1\" class=\"dataframe\">\n",
              "  <thead>\n",
              "    <tr style=\"text-align: right;\">\n",
              "      <th></th>\n",
              "      <th>review</th>\n",
              "      <th>sentiment</th>\n",
              "    </tr>\n",
              "  </thead>\n",
              "  <tbody>\n",
              "    <tr>\n",
              "      <th>0</th>\n",
              "      <td>One of the other reviewers has mentioned that ...</td>\n",
              "      <td>positive</td>\n",
              "    </tr>\n",
              "    <tr>\n",
              "      <th>1</th>\n",
              "      <td>A wonderful little production. &lt;br /&gt;&lt;br /&gt;The...</td>\n",
              "      <td>positive</td>\n",
              "    </tr>\n",
              "    <tr>\n",
              "      <th>2</th>\n",
              "      <td>I thought this was a wonderful way to spend ti...</td>\n",
              "      <td>positive</td>\n",
              "    </tr>\n",
              "    <tr>\n",
              "      <th>3</th>\n",
              "      <td>Basically there's a family where a little boy ...</td>\n",
              "      <td>negative</td>\n",
              "    </tr>\n",
              "    <tr>\n",
              "      <th>4</th>\n",
              "      <td>Petter Mattei's \"Love in the Time of Money\" is...</td>\n",
              "      <td>positive</td>\n",
              "    </tr>\n",
              "    <tr>\n",
              "      <th>...</th>\n",
              "      <td>...</td>\n",
              "      <td>...</td>\n",
              "    </tr>\n",
              "    <tr>\n",
              "      <th>9995</th>\n",
              "      <td>Fun, entertaining movie about WWII German spy ...</td>\n",
              "      <td>positive</td>\n",
              "    </tr>\n",
              "    <tr>\n",
              "      <th>9996</th>\n",
              "      <td>Give me a break. How can anyone say that this ...</td>\n",
              "      <td>negative</td>\n",
              "    </tr>\n",
              "    <tr>\n",
              "      <th>9997</th>\n",
              "      <td>This movie is a bad movie. But after watching ...</td>\n",
              "      <td>negative</td>\n",
              "    </tr>\n",
              "    <tr>\n",
              "      <th>9998</th>\n",
              "      <td>This is a movie that was probably made to ente...</td>\n",
              "      <td>negative</td>\n",
              "    </tr>\n",
              "    <tr>\n",
              "      <th>9999</th>\n",
              "      <td>Smashing film about film-making. Shows the int...</td>\n",
              "      <td>positive</td>\n",
              "    </tr>\n",
              "  </tbody>\n",
              "</table>\n",
              "<p>10000 rows × 2 columns</p>\n",
              "</div>"
            ],
            "text/plain": [
              "                                                 review sentiment\n",
              "0     One of the other reviewers has mentioned that ...  positive\n",
              "1     A wonderful little production. <br /><br />The...  positive\n",
              "2     I thought this was a wonderful way to spend ti...  positive\n",
              "3     Basically there's a family where a little boy ...  negative\n",
              "4     Petter Mattei's \"Love in the Time of Money\" is...  positive\n",
              "...                                                 ...       ...\n",
              "9995  Fun, entertaining movie about WWII German spy ...  positive\n",
              "9996  Give me a break. How can anyone say that this ...  negative\n",
              "9997  This movie is a bad movie. But after watching ...  negative\n",
              "9998  This is a movie that was probably made to ente...  negative\n",
              "9999  Smashing film about film-making. Shows the int...  positive\n",
              "\n",
              "[10000 rows x 2 columns]"
            ]
          },
          "execution_count": 30,
          "metadata": {},
          "output_type": "execute_result"
        }
      ],
      "source": [
        "TargetData=pd.read_csv('Dataset.csv')\n",
        "TargetData"
      ]
    },
    {
      "cell_type": "code",
      "execution_count": null,
      "id": "06f27b25",
      "metadata": {
        "colab": {
          "base_uri": "https://localhost:8080/",
          "height": 423
        },
        "id": "06f27b25",
        "outputId": "3d313d91-e3a2-404f-e227-f2dfcb6f6491"
      },
      "outputs": [
        {
          "data": {
            "text/html": [
              "<div>\n",
              "<style scoped>\n",
              "    .dataframe tbody tr th:only-of-type {\n",
              "        vertical-align: middle;\n",
              "    }\n",
              "\n",
              "    .dataframe tbody tr th {\n",
              "        vertical-align: top;\n",
              "    }\n",
              "\n",
              "    .dataframe thead th {\n",
              "        text-align: right;\n",
              "    }\n",
              "</style>\n",
              "<table border=\"1\" class=\"dataframe\">\n",
              "  <thead>\n",
              "    <tr style=\"text-align: right;\">\n",
              "      <th></th>\n",
              "      <th>sentiment</th>\n",
              "    </tr>\n",
              "  </thead>\n",
              "  <tbody>\n",
              "    <tr>\n",
              "      <th>0</th>\n",
              "      <td>positive</td>\n",
              "    </tr>\n",
              "    <tr>\n",
              "      <th>1</th>\n",
              "      <td>positive</td>\n",
              "    </tr>\n",
              "    <tr>\n",
              "      <th>2</th>\n",
              "      <td>positive</td>\n",
              "    </tr>\n",
              "    <tr>\n",
              "      <th>3</th>\n",
              "      <td>negative</td>\n",
              "    </tr>\n",
              "    <tr>\n",
              "      <th>4</th>\n",
              "      <td>positive</td>\n",
              "    </tr>\n",
              "    <tr>\n",
              "      <th>...</th>\n",
              "      <td>...</td>\n",
              "    </tr>\n",
              "    <tr>\n",
              "      <th>9995</th>\n",
              "      <td>positive</td>\n",
              "    </tr>\n",
              "    <tr>\n",
              "      <th>9996</th>\n",
              "      <td>negative</td>\n",
              "    </tr>\n",
              "    <tr>\n",
              "      <th>9997</th>\n",
              "      <td>negative</td>\n",
              "    </tr>\n",
              "    <tr>\n",
              "      <th>9998</th>\n",
              "      <td>negative</td>\n",
              "    </tr>\n",
              "    <tr>\n",
              "      <th>9999</th>\n",
              "      <td>positive</td>\n",
              "    </tr>\n",
              "  </tbody>\n",
              "</table>\n",
              "<p>10000 rows × 1 columns</p>\n",
              "</div>"
            ],
            "text/plain": [
              "     sentiment\n",
              "0     positive\n",
              "1     positive\n",
              "2     positive\n",
              "3     negative\n",
              "4     positive\n",
              "...        ...\n",
              "9995  positive\n",
              "9996  negative\n",
              "9997  negative\n",
              "9998  negative\n",
              "9999  positive\n",
              "\n",
              "[10000 rows x 1 columns]"
            ]
          },
          "execution_count": 31,
          "metadata": {},
          "output_type": "execute_result"
        }
      ],
      "source": [
        "TargetData = TargetData.drop('review', axis=1)\n",
        "TargetData"
      ]
    },
    {
      "cell_type": "markdown",
      "id": "yD5wymevGLeZ",
      "metadata": {
        "id": "yD5wymevGLeZ"
      },
      "source": [
        "Label Encoding"
      ]
    },
    {
      "cell_type": "code",
      "execution_count": null,
      "id": "c8651352",
      "metadata": {
        "id": "c8651352"
      },
      "outputs": [],
      "source": [
        "from sklearn.preprocessing import LabelEncoder"
      ]
    },
    {
      "cell_type": "code",
      "execution_count": null,
      "id": "13bbf530",
      "metadata": {
        "id": "13bbf530"
      },
      "outputs": [],
      "source": [
        "label_encoder = LabelEncoder()"
      ]
    },
    {
      "cell_type": "code",
      "execution_count": null,
      "id": "45d7b933",
      "metadata": {
        "id": "45d7b933"
      },
      "outputs": [],
      "source": [
        "TargetData['encoded_sentiments'] = label_encoder.fit_transform(TargetData['sentiment'])\n"
      ]
    },
    {
      "cell_type": "code",
      "execution_count": null,
      "id": "c23cc2b9",
      "metadata": {
        "colab": {
          "base_uri": "https://localhost:8080/",
          "height": 423
        },
        "id": "c23cc2b9",
        "outputId": "5858e70a-f39e-4f12-b839-b13a0b0b1ebd"
      },
      "outputs": [
        {
          "data": {
            "text/html": [
              "<div>\n",
              "<style scoped>\n",
              "    .dataframe tbody tr th:only-of-type {\n",
              "        vertical-align: middle;\n",
              "    }\n",
              "\n",
              "    .dataframe tbody tr th {\n",
              "        vertical-align: top;\n",
              "    }\n",
              "\n",
              "    .dataframe thead th {\n",
              "        text-align: right;\n",
              "    }\n",
              "</style>\n",
              "<table border=\"1\" class=\"dataframe\">\n",
              "  <thead>\n",
              "    <tr style=\"text-align: right;\">\n",
              "      <th></th>\n",
              "      <th>sentiment</th>\n",
              "      <th>encoded_sentiments</th>\n",
              "    </tr>\n",
              "  </thead>\n",
              "  <tbody>\n",
              "    <tr>\n",
              "      <th>0</th>\n",
              "      <td>positive</td>\n",
              "      <td>1</td>\n",
              "    </tr>\n",
              "    <tr>\n",
              "      <th>1</th>\n",
              "      <td>positive</td>\n",
              "      <td>1</td>\n",
              "    </tr>\n",
              "    <tr>\n",
              "      <th>2</th>\n",
              "      <td>positive</td>\n",
              "      <td>1</td>\n",
              "    </tr>\n",
              "    <tr>\n",
              "      <th>3</th>\n",
              "      <td>negative</td>\n",
              "      <td>0</td>\n",
              "    </tr>\n",
              "    <tr>\n",
              "      <th>4</th>\n",
              "      <td>positive</td>\n",
              "      <td>1</td>\n",
              "    </tr>\n",
              "    <tr>\n",
              "      <th>...</th>\n",
              "      <td>...</td>\n",
              "      <td>...</td>\n",
              "    </tr>\n",
              "    <tr>\n",
              "      <th>9995</th>\n",
              "      <td>positive</td>\n",
              "      <td>1</td>\n",
              "    </tr>\n",
              "    <tr>\n",
              "      <th>9996</th>\n",
              "      <td>negative</td>\n",
              "      <td>0</td>\n",
              "    </tr>\n",
              "    <tr>\n",
              "      <th>9997</th>\n",
              "      <td>negative</td>\n",
              "      <td>0</td>\n",
              "    </tr>\n",
              "    <tr>\n",
              "      <th>9998</th>\n",
              "      <td>negative</td>\n",
              "      <td>0</td>\n",
              "    </tr>\n",
              "    <tr>\n",
              "      <th>9999</th>\n",
              "      <td>positive</td>\n",
              "      <td>1</td>\n",
              "    </tr>\n",
              "  </tbody>\n",
              "</table>\n",
              "<p>10000 rows × 2 columns</p>\n",
              "</div>"
            ],
            "text/plain": [
              "     sentiment  encoded_sentiments\n",
              "0     positive                   1\n",
              "1     positive                   1\n",
              "2     positive                   1\n",
              "3     negative                   0\n",
              "4     positive                   1\n",
              "...        ...                 ...\n",
              "9995  positive                   1\n",
              "9996  negative                   0\n",
              "9997  negative                   0\n",
              "9998  negative                   0\n",
              "9999  positive                   1\n",
              "\n",
              "[10000 rows x 2 columns]"
            ]
          },
          "execution_count": 35,
          "metadata": {},
          "output_type": "execute_result"
        }
      ],
      "source": [
        "TargetData"
      ]
    },
    {
      "cell_type": "code",
      "execution_count": null,
      "id": "99c261a3",
      "metadata": {
        "colab": {
          "base_uri": "https://localhost:8080/",
          "height": 423
        },
        "id": "99c261a3",
        "outputId": "08cca749-1290-405e-b313-ee3b0980a2df"
      },
      "outputs": [
        {
          "data": {
            "text/html": [
              "<div>\n",
              "<style scoped>\n",
              "    .dataframe tbody tr th:only-of-type {\n",
              "        vertical-align: middle;\n",
              "    }\n",
              "\n",
              "    .dataframe tbody tr th {\n",
              "        vertical-align: top;\n",
              "    }\n",
              "\n",
              "    .dataframe thead th {\n",
              "        text-align: right;\n",
              "    }\n",
              "</style>\n",
              "<table border=\"1\" class=\"dataframe\">\n",
              "  <thead>\n",
              "    <tr style=\"text-align: right;\">\n",
              "      <th></th>\n",
              "      <th>encoded_sentiments</th>\n",
              "    </tr>\n",
              "  </thead>\n",
              "  <tbody>\n",
              "    <tr>\n",
              "      <th>0</th>\n",
              "      <td>1</td>\n",
              "    </tr>\n",
              "    <tr>\n",
              "      <th>1</th>\n",
              "      <td>1</td>\n",
              "    </tr>\n",
              "    <tr>\n",
              "      <th>2</th>\n",
              "      <td>1</td>\n",
              "    </tr>\n",
              "    <tr>\n",
              "      <th>3</th>\n",
              "      <td>0</td>\n",
              "    </tr>\n",
              "    <tr>\n",
              "      <th>4</th>\n",
              "      <td>1</td>\n",
              "    </tr>\n",
              "    <tr>\n",
              "      <th>...</th>\n",
              "      <td>...</td>\n",
              "    </tr>\n",
              "    <tr>\n",
              "      <th>9995</th>\n",
              "      <td>1</td>\n",
              "    </tr>\n",
              "    <tr>\n",
              "      <th>9996</th>\n",
              "      <td>0</td>\n",
              "    </tr>\n",
              "    <tr>\n",
              "      <th>9997</th>\n",
              "      <td>0</td>\n",
              "    </tr>\n",
              "    <tr>\n",
              "      <th>9998</th>\n",
              "      <td>0</td>\n",
              "    </tr>\n",
              "    <tr>\n",
              "      <th>9999</th>\n",
              "      <td>1</td>\n",
              "    </tr>\n",
              "  </tbody>\n",
              "</table>\n",
              "<p>10000 rows × 1 columns</p>\n",
              "</div>"
            ],
            "text/plain": [
              "      encoded_sentiments\n",
              "0                      1\n",
              "1                      1\n",
              "2                      1\n",
              "3                      0\n",
              "4                      1\n",
              "...                  ...\n",
              "9995                   1\n",
              "9996                   0\n",
              "9997                   0\n",
              "9998                   0\n",
              "9999                   1\n",
              "\n",
              "[10000 rows x 1 columns]"
            ]
          },
          "execution_count": 36,
          "metadata": {},
          "output_type": "execute_result"
        }
      ],
      "source": [
        "TargetData = TargetData.drop('sentiment', axis=1)\n",
        "TargetData"
      ]
    },
    {
      "cell_type": "markdown",
      "id": "67UNm7Q8GHFz",
      "metadata": {
        "id": "67UNm7Q8GHFz"
      },
      "source": [
        "Final Dataset"
      ]
    },
    {
      "cell_type": "code",
      "execution_count": null,
      "id": "a1737abe",
      "metadata": {
        "id": "a1737abe",
        "outputId": "98fbc19f-24ff-427e-ace1-974979ba9f4d"
      },
      "outputs": [
        {
          "data": {
            "text/html": [
              "<div>\n",
              "<style scoped>\n",
              "    .dataframe tbody tr th:only-of-type {\n",
              "        vertical-align: middle;\n",
              "    }\n",
              "\n",
              "    .dataframe tbody tr th {\n",
              "        vertical-align: top;\n",
              "    }\n",
              "\n",
              "    .dataframe thead th {\n",
              "        text-align: right;\n",
              "    }\n",
              "</style>\n",
              "<table border=\"1\" class=\"dataframe\">\n",
              "  <thead>\n",
              "    <tr style=\"text-align: right;\">\n",
              "      <th></th>\n",
              "      <th>00</th>\n",
              "      <th>000</th>\n",
              "      <th>00000110</th>\n",
              "      <th>0001</th>\n",
              "      <th>0069</th>\n",
              "      <th>007</th>\n",
              "      <th>01</th>\n",
              "      <th>010</th>\n",
              "      <th>01000</th>\n",
              "      <th>0126</th>\n",
              "      <th>...</th>\n",
              "      <th>êtrepeutêtr</th>\n",
              "      <th>ís</th>\n",
              "      <th>ísnt</th>\n",
              "      <th>ïn</th>\n",
              "      <th>óli</th>\n",
              "      <th>önsjön</th>\n",
              "      <th>über</th>\n",
              "      <th>überwoman</th>\n",
              "      <th>ünfaith</th>\n",
              "      <th>encoded_sentiments</th>\n",
              "    </tr>\n",
              "  </thead>\n",
              "  <tbody>\n",
              "    <tr>\n",
              "      <th>0</th>\n",
              "      <td>0.0</td>\n",
              "      <td>0.0</td>\n",
              "      <td>0.0</td>\n",
              "      <td>0.0</td>\n",
              "      <td>0.0</td>\n",
              "      <td>0.0</td>\n",
              "      <td>0.0</td>\n",
              "      <td>0.0</td>\n",
              "      <td>0.0</td>\n",
              "      <td>0.0</td>\n",
              "      <td>...</td>\n",
              "      <td>0.0</td>\n",
              "      <td>0.0</td>\n",
              "      <td>0.0</td>\n",
              "      <td>0.0</td>\n",
              "      <td>0.0</td>\n",
              "      <td>0.0</td>\n",
              "      <td>0.0</td>\n",
              "      <td>0.0</td>\n",
              "      <td>0.0</td>\n",
              "      <td>1</td>\n",
              "    </tr>\n",
              "    <tr>\n",
              "      <th>1</th>\n",
              "      <td>0.0</td>\n",
              "      <td>0.0</td>\n",
              "      <td>0.0</td>\n",
              "      <td>0.0</td>\n",
              "      <td>0.0</td>\n",
              "      <td>0.0</td>\n",
              "      <td>0.0</td>\n",
              "      <td>0.0</td>\n",
              "      <td>0.0</td>\n",
              "      <td>0.0</td>\n",
              "      <td>...</td>\n",
              "      <td>0.0</td>\n",
              "      <td>0.0</td>\n",
              "      <td>0.0</td>\n",
              "      <td>0.0</td>\n",
              "      <td>0.0</td>\n",
              "      <td>0.0</td>\n",
              "      <td>0.0</td>\n",
              "      <td>0.0</td>\n",
              "      <td>0.0</td>\n",
              "      <td>1</td>\n",
              "    </tr>\n",
              "    <tr>\n",
              "      <th>2</th>\n",
              "      <td>0.0</td>\n",
              "      <td>0.0</td>\n",
              "      <td>0.0</td>\n",
              "      <td>0.0</td>\n",
              "      <td>0.0</td>\n",
              "      <td>0.0</td>\n",
              "      <td>0.0</td>\n",
              "      <td>0.0</td>\n",
              "      <td>0.0</td>\n",
              "      <td>0.0</td>\n",
              "      <td>...</td>\n",
              "      <td>0.0</td>\n",
              "      <td>0.0</td>\n",
              "      <td>0.0</td>\n",
              "      <td>0.0</td>\n",
              "      <td>0.0</td>\n",
              "      <td>0.0</td>\n",
              "      <td>0.0</td>\n",
              "      <td>0.0</td>\n",
              "      <td>0.0</td>\n",
              "      <td>1</td>\n",
              "    </tr>\n",
              "    <tr>\n",
              "      <th>3</th>\n",
              "      <td>0.0</td>\n",
              "      <td>0.0</td>\n",
              "      <td>0.0</td>\n",
              "      <td>0.0</td>\n",
              "      <td>0.0</td>\n",
              "      <td>0.0</td>\n",
              "      <td>0.0</td>\n",
              "      <td>0.0</td>\n",
              "      <td>0.0</td>\n",
              "      <td>0.0</td>\n",
              "      <td>...</td>\n",
              "      <td>0.0</td>\n",
              "      <td>0.0</td>\n",
              "      <td>0.0</td>\n",
              "      <td>0.0</td>\n",
              "      <td>0.0</td>\n",
              "      <td>0.0</td>\n",
              "      <td>0.0</td>\n",
              "      <td>0.0</td>\n",
              "      <td>0.0</td>\n",
              "      <td>0</td>\n",
              "    </tr>\n",
              "    <tr>\n",
              "      <th>4</th>\n",
              "      <td>0.0</td>\n",
              "      <td>0.0</td>\n",
              "      <td>0.0</td>\n",
              "      <td>0.0</td>\n",
              "      <td>0.0</td>\n",
              "      <td>0.0</td>\n",
              "      <td>0.0</td>\n",
              "      <td>0.0</td>\n",
              "      <td>0.0</td>\n",
              "      <td>0.0</td>\n",
              "      <td>...</td>\n",
              "      <td>0.0</td>\n",
              "      <td>0.0</td>\n",
              "      <td>0.0</td>\n",
              "      <td>0.0</td>\n",
              "      <td>0.0</td>\n",
              "      <td>0.0</td>\n",
              "      <td>0.0</td>\n",
              "      <td>0.0</td>\n",
              "      <td>0.0</td>\n",
              "      <td>1</td>\n",
              "    </tr>\n",
              "  </tbody>\n",
              "</table>\n",
              "<p>5 rows × 55286 columns</p>\n",
              "</div>"
            ],
            "text/plain": [
              "    00  000  00000110  0001  0069  007   01  010  01000  0126  ...  \\\n",
              "0  0.0  0.0       0.0   0.0   0.0  0.0  0.0  0.0    0.0   0.0  ...   \n",
              "1  0.0  0.0       0.0   0.0   0.0  0.0  0.0  0.0    0.0   0.0  ...   \n",
              "2  0.0  0.0       0.0   0.0   0.0  0.0  0.0  0.0    0.0   0.0  ...   \n",
              "3  0.0  0.0       0.0   0.0   0.0  0.0  0.0  0.0    0.0   0.0  ...   \n",
              "4  0.0  0.0       0.0   0.0   0.0  0.0  0.0  0.0    0.0   0.0  ...   \n",
              "\n",
              "   êtrepeutêtr   ís  ísnt   ïn  óli  önsjön  über  überwoman  ünfaith  \\\n",
              "0          0.0  0.0   0.0  0.0  0.0     0.0   0.0        0.0      0.0   \n",
              "1          0.0  0.0   0.0  0.0  0.0     0.0   0.0        0.0      0.0   \n",
              "2          0.0  0.0   0.0  0.0  0.0     0.0   0.0        0.0      0.0   \n",
              "3          0.0  0.0   0.0  0.0  0.0     0.0   0.0        0.0      0.0   \n",
              "4          0.0  0.0   0.0  0.0  0.0     0.0   0.0        0.0      0.0   \n",
              "\n",
              "   encoded_sentiments  \n",
              "0                   1  \n",
              "1                   1  \n",
              "2                   1  \n",
              "3                   0  \n",
              "4                   1  \n",
              "\n",
              "[5 rows x 55286 columns]"
            ]
          },
          "execution_count": 37,
          "metadata": {},
          "output_type": "execute_result"
        }
      ],
      "source": [
        "FinalData=pd.concat((NewData,TargetData),axis=1)\n",
        "FinalData.head()"
      ]
    },
    {
      "cell_type": "markdown",
      "id": "xzqryNlVLko5",
      "metadata": {
        "id": "xzqryNlVLko5"
      },
      "source": [
        "Dividing Data into X & y"
      ]
    },
    {
      "cell_type": "code",
      "execution_count": null,
      "id": "89a869b3",
      "metadata": {
        "id": "89a869b3"
      },
      "outputs": [],
      "source": [
        "X=FinalData.drop('encoded_sentiments',axis=1)\n",
        "y=FinalData['encoded_sentiments']"
      ]
    },
    {
      "cell_type": "code",
      "execution_count": null,
      "id": "e5b470a0",
      "metadata": {
        "id": "e5b470a0",
        "outputId": "8c9bb3e5-5c7d-4813-c714-65c21f2dea22"
      },
      "outputs": [
        {
          "data": {
            "text/html": [
              "<div>\n",
              "<style scoped>\n",
              "    .dataframe tbody tr th:only-of-type {\n",
              "        vertical-align: middle;\n",
              "    }\n",
              "\n",
              "    .dataframe tbody tr th {\n",
              "        vertical-align: top;\n",
              "    }\n",
              "\n",
              "    .dataframe thead th {\n",
              "        text-align: right;\n",
              "    }\n",
              "</style>\n",
              "<table border=\"1\" class=\"dataframe\">\n",
              "  <thead>\n",
              "    <tr style=\"text-align: right;\">\n",
              "      <th></th>\n",
              "      <th>00</th>\n",
              "      <th>000</th>\n",
              "      <th>00000110</th>\n",
              "      <th>0001</th>\n",
              "      <th>0069</th>\n",
              "      <th>007</th>\n",
              "      <th>01</th>\n",
              "      <th>010</th>\n",
              "      <th>01000</th>\n",
              "      <th>0126</th>\n",
              "      <th>...</th>\n",
              "      <th>étcother</th>\n",
              "      <th>êtrepeutêtr</th>\n",
              "      <th>ís</th>\n",
              "      <th>ísnt</th>\n",
              "      <th>ïn</th>\n",
              "      <th>óli</th>\n",
              "      <th>önsjön</th>\n",
              "      <th>über</th>\n",
              "      <th>überwoman</th>\n",
              "      <th>ünfaith</th>\n",
              "    </tr>\n",
              "  </thead>\n",
              "  <tbody>\n",
              "    <tr>\n",
              "      <th>0</th>\n",
              "      <td>0.0</td>\n",
              "      <td>0.0</td>\n",
              "      <td>0.0</td>\n",
              "      <td>0.0</td>\n",
              "      <td>0.0</td>\n",
              "      <td>0.0</td>\n",
              "      <td>0.0</td>\n",
              "      <td>0.0</td>\n",
              "      <td>0.0</td>\n",
              "      <td>0.0</td>\n",
              "      <td>...</td>\n",
              "      <td>0.0</td>\n",
              "      <td>0.0</td>\n",
              "      <td>0.0</td>\n",
              "      <td>0.0</td>\n",
              "      <td>0.0</td>\n",
              "      <td>0.0</td>\n",
              "      <td>0.0</td>\n",
              "      <td>0.0</td>\n",
              "      <td>0.0</td>\n",
              "      <td>0.0</td>\n",
              "    </tr>\n",
              "    <tr>\n",
              "      <th>1</th>\n",
              "      <td>0.0</td>\n",
              "      <td>0.0</td>\n",
              "      <td>0.0</td>\n",
              "      <td>0.0</td>\n",
              "      <td>0.0</td>\n",
              "      <td>0.0</td>\n",
              "      <td>0.0</td>\n",
              "      <td>0.0</td>\n",
              "      <td>0.0</td>\n",
              "      <td>0.0</td>\n",
              "      <td>...</td>\n",
              "      <td>0.0</td>\n",
              "      <td>0.0</td>\n",
              "      <td>0.0</td>\n",
              "      <td>0.0</td>\n",
              "      <td>0.0</td>\n",
              "      <td>0.0</td>\n",
              "      <td>0.0</td>\n",
              "      <td>0.0</td>\n",
              "      <td>0.0</td>\n",
              "      <td>0.0</td>\n",
              "    </tr>\n",
              "    <tr>\n",
              "      <th>2</th>\n",
              "      <td>0.0</td>\n",
              "      <td>0.0</td>\n",
              "      <td>0.0</td>\n",
              "      <td>0.0</td>\n",
              "      <td>0.0</td>\n",
              "      <td>0.0</td>\n",
              "      <td>0.0</td>\n",
              "      <td>0.0</td>\n",
              "      <td>0.0</td>\n",
              "      <td>0.0</td>\n",
              "      <td>...</td>\n",
              "      <td>0.0</td>\n",
              "      <td>0.0</td>\n",
              "      <td>0.0</td>\n",
              "      <td>0.0</td>\n",
              "      <td>0.0</td>\n",
              "      <td>0.0</td>\n",
              "      <td>0.0</td>\n",
              "      <td>0.0</td>\n",
              "      <td>0.0</td>\n",
              "      <td>0.0</td>\n",
              "    </tr>\n",
              "    <tr>\n",
              "      <th>3</th>\n",
              "      <td>0.0</td>\n",
              "      <td>0.0</td>\n",
              "      <td>0.0</td>\n",
              "      <td>0.0</td>\n",
              "      <td>0.0</td>\n",
              "      <td>0.0</td>\n",
              "      <td>0.0</td>\n",
              "      <td>0.0</td>\n",
              "      <td>0.0</td>\n",
              "      <td>0.0</td>\n",
              "      <td>...</td>\n",
              "      <td>0.0</td>\n",
              "      <td>0.0</td>\n",
              "      <td>0.0</td>\n",
              "      <td>0.0</td>\n",
              "      <td>0.0</td>\n",
              "      <td>0.0</td>\n",
              "      <td>0.0</td>\n",
              "      <td>0.0</td>\n",
              "      <td>0.0</td>\n",
              "      <td>0.0</td>\n",
              "    </tr>\n",
              "    <tr>\n",
              "      <th>4</th>\n",
              "      <td>0.0</td>\n",
              "      <td>0.0</td>\n",
              "      <td>0.0</td>\n",
              "      <td>0.0</td>\n",
              "      <td>0.0</td>\n",
              "      <td>0.0</td>\n",
              "      <td>0.0</td>\n",
              "      <td>0.0</td>\n",
              "      <td>0.0</td>\n",
              "      <td>0.0</td>\n",
              "      <td>...</td>\n",
              "      <td>0.0</td>\n",
              "      <td>0.0</td>\n",
              "      <td>0.0</td>\n",
              "      <td>0.0</td>\n",
              "      <td>0.0</td>\n",
              "      <td>0.0</td>\n",
              "      <td>0.0</td>\n",
              "      <td>0.0</td>\n",
              "      <td>0.0</td>\n",
              "      <td>0.0</td>\n",
              "    </tr>\n",
              "    <tr>\n",
              "      <th>...</th>\n",
              "      <td>...</td>\n",
              "      <td>...</td>\n",
              "      <td>...</td>\n",
              "      <td>...</td>\n",
              "      <td>...</td>\n",
              "      <td>...</td>\n",
              "      <td>...</td>\n",
              "      <td>...</td>\n",
              "      <td>...</td>\n",
              "      <td>...</td>\n",
              "      <td>...</td>\n",
              "      <td>...</td>\n",
              "      <td>...</td>\n",
              "      <td>...</td>\n",
              "      <td>...</td>\n",
              "      <td>...</td>\n",
              "      <td>...</td>\n",
              "      <td>...</td>\n",
              "      <td>...</td>\n",
              "      <td>...</td>\n",
              "      <td>...</td>\n",
              "    </tr>\n",
              "    <tr>\n",
              "      <th>9995</th>\n",
              "      <td>0.0</td>\n",
              "      <td>0.0</td>\n",
              "      <td>0.0</td>\n",
              "      <td>0.0</td>\n",
              "      <td>0.0</td>\n",
              "      <td>0.0</td>\n",
              "      <td>0.0</td>\n",
              "      <td>0.0</td>\n",
              "      <td>0.0</td>\n",
              "      <td>0.0</td>\n",
              "      <td>...</td>\n",
              "      <td>0.0</td>\n",
              "      <td>0.0</td>\n",
              "      <td>0.0</td>\n",
              "      <td>0.0</td>\n",
              "      <td>0.0</td>\n",
              "      <td>0.0</td>\n",
              "      <td>0.0</td>\n",
              "      <td>0.0</td>\n",
              "      <td>0.0</td>\n",
              "      <td>0.0</td>\n",
              "    </tr>\n",
              "    <tr>\n",
              "      <th>9996</th>\n",
              "      <td>0.0</td>\n",
              "      <td>0.0</td>\n",
              "      <td>0.0</td>\n",
              "      <td>0.0</td>\n",
              "      <td>0.0</td>\n",
              "      <td>0.0</td>\n",
              "      <td>0.0</td>\n",
              "      <td>0.0</td>\n",
              "      <td>0.0</td>\n",
              "      <td>0.0</td>\n",
              "      <td>...</td>\n",
              "      <td>0.0</td>\n",
              "      <td>0.0</td>\n",
              "      <td>0.0</td>\n",
              "      <td>0.0</td>\n",
              "      <td>0.0</td>\n",
              "      <td>0.0</td>\n",
              "      <td>0.0</td>\n",
              "      <td>0.0</td>\n",
              "      <td>0.0</td>\n",
              "      <td>0.0</td>\n",
              "    </tr>\n",
              "    <tr>\n",
              "      <th>9997</th>\n",
              "      <td>0.0</td>\n",
              "      <td>0.0</td>\n",
              "      <td>0.0</td>\n",
              "      <td>0.0</td>\n",
              "      <td>0.0</td>\n",
              "      <td>0.0</td>\n",
              "      <td>0.0</td>\n",
              "      <td>0.0</td>\n",
              "      <td>0.0</td>\n",
              "      <td>0.0</td>\n",
              "      <td>...</td>\n",
              "      <td>0.0</td>\n",
              "      <td>0.0</td>\n",
              "      <td>0.0</td>\n",
              "      <td>0.0</td>\n",
              "      <td>0.0</td>\n",
              "      <td>0.0</td>\n",
              "      <td>0.0</td>\n",
              "      <td>0.0</td>\n",
              "      <td>0.0</td>\n",
              "      <td>0.0</td>\n",
              "    </tr>\n",
              "    <tr>\n",
              "      <th>9998</th>\n",
              "      <td>0.0</td>\n",
              "      <td>0.0</td>\n",
              "      <td>0.0</td>\n",
              "      <td>0.0</td>\n",
              "      <td>0.0</td>\n",
              "      <td>0.0</td>\n",
              "      <td>0.0</td>\n",
              "      <td>0.0</td>\n",
              "      <td>0.0</td>\n",
              "      <td>0.0</td>\n",
              "      <td>...</td>\n",
              "      <td>0.0</td>\n",
              "      <td>0.0</td>\n",
              "      <td>0.0</td>\n",
              "      <td>0.0</td>\n",
              "      <td>0.0</td>\n",
              "      <td>0.0</td>\n",
              "      <td>0.0</td>\n",
              "      <td>0.0</td>\n",
              "      <td>0.0</td>\n",
              "      <td>0.0</td>\n",
              "    </tr>\n",
              "    <tr>\n",
              "      <th>9999</th>\n",
              "      <td>0.0</td>\n",
              "      <td>0.0</td>\n",
              "      <td>0.0</td>\n",
              "      <td>0.0</td>\n",
              "      <td>0.0</td>\n",
              "      <td>0.0</td>\n",
              "      <td>0.0</td>\n",
              "      <td>0.0</td>\n",
              "      <td>0.0</td>\n",
              "      <td>0.0</td>\n",
              "      <td>...</td>\n",
              "      <td>0.0</td>\n",
              "      <td>0.0</td>\n",
              "      <td>0.0</td>\n",
              "      <td>0.0</td>\n",
              "      <td>0.0</td>\n",
              "      <td>0.0</td>\n",
              "      <td>0.0</td>\n",
              "      <td>0.0</td>\n",
              "      <td>0.0</td>\n",
              "      <td>0.0</td>\n",
              "    </tr>\n",
              "  </tbody>\n",
              "</table>\n",
              "<p>10000 rows × 55285 columns</p>\n",
              "</div>"
            ],
            "text/plain": [
              "       00  000  00000110  0001  0069  007   01  010  01000  0126  ...  \\\n",
              "0     0.0  0.0       0.0   0.0   0.0  0.0  0.0  0.0    0.0   0.0  ...   \n",
              "1     0.0  0.0       0.0   0.0   0.0  0.0  0.0  0.0    0.0   0.0  ...   \n",
              "2     0.0  0.0       0.0   0.0   0.0  0.0  0.0  0.0    0.0   0.0  ...   \n",
              "3     0.0  0.0       0.0   0.0   0.0  0.0  0.0  0.0    0.0   0.0  ...   \n",
              "4     0.0  0.0       0.0   0.0   0.0  0.0  0.0  0.0    0.0   0.0  ...   \n",
              "...   ...  ...       ...   ...   ...  ...  ...  ...    ...   ...  ...   \n",
              "9995  0.0  0.0       0.0   0.0   0.0  0.0  0.0  0.0    0.0   0.0  ...   \n",
              "9996  0.0  0.0       0.0   0.0   0.0  0.0  0.0  0.0    0.0   0.0  ...   \n",
              "9997  0.0  0.0       0.0   0.0   0.0  0.0  0.0  0.0    0.0   0.0  ...   \n",
              "9998  0.0  0.0       0.0   0.0   0.0  0.0  0.0  0.0    0.0   0.0  ...   \n",
              "9999  0.0  0.0       0.0   0.0   0.0  0.0  0.0  0.0    0.0   0.0  ...   \n",
              "\n",
              "      étcother  êtrepeutêtr   ís  ísnt   ïn  óli  önsjön  über  überwoman  \\\n",
              "0          0.0          0.0  0.0   0.0  0.0  0.0     0.0   0.0        0.0   \n",
              "1          0.0          0.0  0.0   0.0  0.0  0.0     0.0   0.0        0.0   \n",
              "2          0.0          0.0  0.0   0.0  0.0  0.0     0.0   0.0        0.0   \n",
              "3          0.0          0.0  0.0   0.0  0.0  0.0     0.0   0.0        0.0   \n",
              "4          0.0          0.0  0.0   0.0  0.0  0.0     0.0   0.0        0.0   \n",
              "...        ...          ...  ...   ...  ...  ...     ...   ...        ...   \n",
              "9995       0.0          0.0  0.0   0.0  0.0  0.0     0.0   0.0        0.0   \n",
              "9996       0.0          0.0  0.0   0.0  0.0  0.0     0.0   0.0        0.0   \n",
              "9997       0.0          0.0  0.0   0.0  0.0  0.0     0.0   0.0        0.0   \n",
              "9998       0.0          0.0  0.0   0.0  0.0  0.0     0.0   0.0        0.0   \n",
              "9999       0.0          0.0  0.0   0.0  0.0  0.0     0.0   0.0        0.0   \n",
              "\n",
              "      ünfaith  \n",
              "0         0.0  \n",
              "1         0.0  \n",
              "2         0.0  \n",
              "3         0.0  \n",
              "4         0.0  \n",
              "...       ...  \n",
              "9995      0.0  \n",
              "9996      0.0  \n",
              "9997      0.0  \n",
              "9998      0.0  \n",
              "9999      0.0  \n",
              "\n",
              "[10000 rows x 55285 columns]"
            ]
          },
          "execution_count": 39,
          "metadata": {},
          "output_type": "execute_result"
        }
      ],
      "source": [
        "X"
      ]
    },
    {
      "cell_type": "code",
      "execution_count": null,
      "id": "72257653",
      "metadata": {
        "id": "72257653",
        "outputId": "eacb64ed-12f3-45a5-e850-fdf996ff6c3e"
      },
      "outputs": [
        {
          "data": {
            "text/plain": [
              "0       1\n",
              "1       1\n",
              "2       1\n",
              "3       0\n",
              "4       1\n",
              "       ..\n",
              "9995    1\n",
              "9996    0\n",
              "9997    0\n",
              "9998    0\n",
              "9999    1\n",
              "Name: encoded_sentiments, Length: 10000, dtype: int32"
            ]
          },
          "execution_count": 40,
          "metadata": {},
          "output_type": "execute_result"
        }
      ],
      "source": [
        "y"
      ]
    },
    {
      "cell_type": "markdown",
      "id": "uqZzp6haLq2z",
      "metadata": {
        "id": "uqZzp6haLq2z"
      },
      "source": [
        "Dividing Data into train_test"
      ]
    },
    {
      "cell_type": "code",
      "execution_count": null,
      "id": "ba2fd48b",
      "metadata": {
        "id": "ba2fd48b"
      },
      "outputs": [],
      "source": [
        "from sklearn.model_selection import train_test_split\n",
        "from sklearn.metrics import accuracy_score, confusion_matrix, classification_report"
      ]
    },
    {
      "cell_type": "code",
      "execution_count": null,
      "id": "2b5f2214",
      "metadata": {
        "id": "2b5f2214"
      },
      "outputs": [],
      "source": [
        "x_train,x_test,y_train,y_test=train_test_split(X,y,test_size=0.20,random_state=0)"
      ]
    },
    {
      "cell_type": "markdown",
      "id": "viOX-CyO5KvB",
      "metadata": {
        "id": "viOX-CyO5KvB"
      },
      "source": [
        "Logistic Regression"
      ]
    },
    {
      "cell_type": "code",
      "execution_count": null,
      "id": "4a868d47",
      "metadata": {
        "id": "4a868d47",
        "outputId": "f09c5dd4-1ab0-44cd-a09e-4de873e36ee1"
      },
      "outputs": [
        {
          "name": "stdout",
          "output_type": "stream",
          "text": [
            "Accuracy: 0.857\n",
            "Classification Report:\n",
            "               precision    recall  f1-score   support\n",
            "\n",
            "           0       0.88      0.83      0.85       979\n",
            "           1       0.84      0.89      0.86      1021\n",
            "\n",
            "    accuracy                           0.86      2000\n",
            "   macro avg       0.86      0.86      0.86      2000\n",
            "weighted avg       0.86      0.86      0.86      2000\n",
            "\n",
            "Confusion Matrix:\n",
            " [[808 171]\n",
            " [115 906]]\n"
          ]
        }
      ],
      "source": [
        "from sklearn.linear_model import LogisticRegression\n",
        "\n",
        "#Create a logistic regression model\n",
        "model = LogisticRegression()\n",
        "\n",
        "#Train the model on the training set\n",
        "model.fit(x_train, y_train)\n",
        "\n",
        "#Make predictions on the test set\n",
        "y_pred = model.predict(x_test)\n",
        "\n",
        "#Evaluate the model\n",
        "accuracy = accuracy_score(y_test, y_pred)\n",
        "report = classification_report(y_test, y_pred)\n",
        "conf_matrix = confusion_matrix(y_test, y_pred)\n",
        "\n",
        "print(f\"Accuracy: {accuracy}\")\n",
        "print(\"Classification Report:\\n\", report)\n",
        "print(\"Confusion Matrix:\\n\", conf_matrix)"
      ]
    },
    {
      "cell_type": "markdown",
      "id": "a7DtYImy5bDv",
      "metadata": {
        "id": "a7DtYImy5bDv"
      },
      "source": [
        "Random Forest Classifier"
      ]
    },
    {
      "cell_type": "code",
      "execution_count": null,
      "id": "RkoCxZRA4NAZ",
      "metadata": {
        "id": "RkoCxZRA4NAZ",
        "outputId": "f217d506-6b68-48d8-c3fc-679eba85bd11"
      },
      "outputs": [
        {
          "name": "stdout",
          "output_type": "stream",
          "text": [
            "Accuracy: 0.8395\n",
            "Classification Report:\n",
            "               precision    recall  f1-score   support\n",
            "\n",
            "           0       0.84      0.83      0.84       979\n",
            "           1       0.84      0.85      0.84      1021\n",
            "\n",
            "    accuracy                           0.84      2000\n",
            "   macro avg       0.84      0.84      0.84      2000\n",
            "weighted avg       0.84      0.84      0.84      2000\n",
            "\n",
            "Confusion Matrix:\n",
            " [[815 164]\n",
            " [157 864]]\n"
          ]
        }
      ],
      "source": [
        "from sklearn.ensemble import RandomForestClassifier\n",
        "\n",
        "#Create a Random Forest classifier\n",
        "RFC = RandomForestClassifier(n_estimators=100, random_state=42)\n",
        "\n",
        "#Train the model on the training set\n",
        "RFC.fit(x_train, y_train)\n",
        "\n",
        "#Make predictions on the test set\n",
        "y_predd = RFC.predict(x_test)\n",
        "\n",
        "#Evaluate the model\n",
        "accuracy = accuracy_score(y_test, y_predd)\n",
        "report = classification_report(y_test, y_predd)\n",
        "conf_matrix = confusion_matrix(y_test, y_predd)\n",
        "\n",
        "print(f\"Accuracy: {accuracy}\")\n",
        "print(\"Classification Report:\\n\", report)\n",
        "print(\"Confusion Matrix:\\n\", conf_matrix)"
      ]
    },
    {
      "cell_type": "markdown",
      "source": [
        "Logistic Regression gave accuarcy of 85% and Random Forest Classifier gave accuracy of 83%"
      ],
      "metadata": {
        "id": "KjyWLVMQGDy5"
      },
      "id": "KjyWLVMQGDy5"
    },
    {
      "cell_type": "code",
      "execution_count": null,
      "id": "to4sJX5-4NG_",
      "metadata": {
        "id": "to4sJX5-4NG_"
      },
      "outputs": [],
      "source": []
    },
    {
      "cell_type": "code",
      "execution_count": null,
      "id": "118a3110",
      "metadata": {
        "id": "118a3110"
      },
      "outputs": [],
      "source": []
    },
    {
      "cell_type": "code",
      "execution_count": null,
      "id": "4895ad01",
      "metadata": {
        "id": "4895ad01"
      },
      "outputs": [],
      "source": []
    },
    {
      "cell_type": "code",
      "execution_count": null,
      "id": "4d77d42d",
      "metadata": {
        "id": "4d77d42d"
      },
      "outputs": [],
      "source": []
    },
    {
      "cell_type": "code",
      "execution_count": null,
      "id": "1e205f04",
      "metadata": {
        "id": "1e205f04"
      },
      "outputs": [],
      "source": []
    },
    {
      "cell_type": "code",
      "execution_count": null,
      "id": "3098576d",
      "metadata": {
        "id": "3098576d"
      },
      "outputs": [],
      "source": []
    }
  ],
  "metadata": {
    "colab": {
      "provenance": []
    },
    "kernelspec": {
      "display_name": "Python 3 (ipykernel)",
      "language": "python",
      "name": "python3"
    },
    "language_info": {
      "codemirror_mode": {
        "name": "ipython",
        "version": 3
      },
      "file_extension": ".py",
      "mimetype": "text/x-python",
      "name": "python",
      "nbconvert_exporter": "python",
      "pygments_lexer": "ipython3",
      "version": "3.11.5"
    }
  },
  "nbformat": 4,
  "nbformat_minor": 5
}